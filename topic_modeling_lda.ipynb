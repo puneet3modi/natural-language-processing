{
 "cells": [
  {
   "cell_type": "code",
   "execution_count": 1,
   "id": "5e40c577-4bfa-461e-bc7b-1eec47394210",
   "metadata": {},
   "outputs": [
    {
     "name": "stderr",
     "output_type": "stream",
     "text": [
      "2023-05-27 02:24:36.471857: I tensorflow/core/platform/cpu_feature_guard.cc:193] This TensorFlow binary is optimized with oneAPI Deep Neural Network Library (oneDNN) to use the following CPU instructions in performance-critical operations:  AVX2 AVX512F FMA\n",
      "To enable them in other operations, rebuild TensorFlow with the appropriate compiler flags.\n",
      "2023-05-27 02:24:39.155701: W tensorflow/compiler/xla/stream_executor/platform/default/dso_loader.cc:64] Could not load dynamic library 'libnvinfer.so.7'; dlerror: libnvinfer.so.7: cannot open shared object file: No such file or directory; LD_LIBRARY_PATH: /usr/local/cuda/lib64:/usr/local/nccl2/lib:/usr/local/cuda/extras/CUPTI/lib64\n",
      "2023-05-27 02:24:39.155842: W tensorflow/compiler/xla/stream_executor/platform/default/dso_loader.cc:64] Could not load dynamic library 'libnvinfer_plugin.so.7'; dlerror: libnvinfer_plugin.so.7: cannot open shared object file: No such file or directory; LD_LIBRARY_PATH: /usr/local/cuda/lib64:/usr/local/nccl2/lib:/usr/local/cuda/extras/CUPTI/lib64\n",
      "2023-05-27 02:24:39.155853: W tensorflow/compiler/tf2tensorrt/utils/py_utils.cc:38] TF-TRT Warning: Cannot dlopen some TensorRT libraries. If you would like to use Nvidia GPU with TensorRT, please make sure the missing libraries mentioned above are installed properly.\n",
      "2023-05-27 02:24:41.361864: I tensorflow/compiler/xla/stream_executor/cuda/cuda_gpu_executor.cc:981] successful NUMA node read from SysFS had negative value (-1), but there must be at least one NUMA node, so returning NUMA node zero\n",
      "2023-05-27 02:24:41.364097: I tensorflow/compiler/xla/stream_executor/cuda/cuda_gpu_executor.cc:981] successful NUMA node read from SysFS had negative value (-1), but there must be at least one NUMA node, so returning NUMA node zero\n",
      "2023-05-27 02:24:41.367328: I tensorflow/compiler/xla/stream_executor/cuda/cuda_gpu_executor.cc:981] successful NUMA node read from SysFS had negative value (-1), but there must be at least one NUMA node, so returning NUMA node zero\n",
      "2023-05-27 02:24:41.370525: I tensorflow/compiler/xla/stream_executor/cuda/cuda_gpu_executor.cc:981] successful NUMA node read from SysFS had negative value (-1), but there must be at least one NUMA node, so returning NUMA node zero\n",
      "2023-05-27 02:24:41.374853: I tensorflow/compiler/xla/stream_executor/cuda/cuda_gpu_executor.cc:981] successful NUMA node read from SysFS had negative value (-1), but there must be at least one NUMA node, so returning NUMA node zero\n",
      "2023-05-27 02:24:41.376721: I tensorflow/compiler/xla/stream_executor/cuda/cuda_gpu_executor.cc:981] successful NUMA node read from SysFS had negative value (-1), but there must be at least one NUMA node, so returning NUMA node zero\n",
      "2023-05-27 02:24:41.379374: I tensorflow/compiler/xla/stream_executor/cuda/cuda_gpu_executor.cc:981] successful NUMA node read from SysFS had negative value (-1), but there must be at least one NUMA node, so returning NUMA node zero\n",
      "2023-05-27 02:24:41.382045: I tensorflow/compiler/xla/stream_executor/cuda/cuda_gpu_executor.cc:981] successful NUMA node read from SysFS had negative value (-1), but there must be at least one NUMA node, so returning NUMA node zero\n",
      "2023-05-27 02:24:41.384688: I tensorflow/compiler/xla/stream_executor/cuda/cuda_gpu_executor.cc:981] successful NUMA node read from SysFS had negative value (-1), but there must be at least one NUMA node, so returning NUMA node zero\n",
      "2023-05-27 02:24:41.386507: I tensorflow/compiler/xla/stream_executor/cuda/cuda_gpu_executor.cc:981] successful NUMA node read from SysFS had negative value (-1), but there must be at least one NUMA node, so returning NUMA node zero\n",
      "2023-05-27 02:24:41.389171: I tensorflow/compiler/xla/stream_executor/cuda/cuda_gpu_executor.cc:981] successful NUMA node read from SysFS had negative value (-1), but there must be at least one NUMA node, so returning NUMA node zero\n",
      "2023-05-27 02:24:41.391755: I tensorflow/compiler/xla/stream_executor/cuda/cuda_gpu_executor.cc:981] successful NUMA node read from SysFS had negative value (-1), but there must be at least one NUMA node, so returning NUMA node zero\n"
     ]
    }
   ],
   "source": [
    "# Import necessary modules\n",
    "import pandas as pd \n",
    "import numpy as np \n",
    "import matplotlib.pyplot as plt \n",
    "import matplotlib.dates as mdates\n",
    "import seaborn as sns \n",
    "import os\n",
    "import sys\n",
    "import time\n",
    "import math\n",
    "import re\n",
    "import string\n",
    "from bs4 import BeautifulSoup\n",
    "import pickle\n",
    "import joblib\n",
    "from joblib import dump, load\n",
    "\n",
    "import nltk as nltk\n",
    "from nltk.corpus import stopwords\n",
    "from nltk.sentiment import SentimentIntensityAnalyzer\n",
    "from nltk.stem.wordnet import WordNetLemmatizer\n",
    "\n",
    "from sklearn.model_selection import train_test_split\n",
    "from sklearn.pipeline import make_pipeline\n",
    "from sklearn.feature_extraction.text import TfidfVectorizer\n",
    "from sklearn.linear_model import LogisticRegression\n",
    "from sklearn.metrics import accuracy_score, classification_report, confusion_matrix\n",
    "\n",
    "import spacy \n",
    "from spacy import displacy\n",
    "from wordcloud import WordCloud, STOPWORDS, ImageColorGenerator\n",
    "\n",
    "from pprint import pprint\n",
    "import gensim\n",
    "from gensim import corpora, models\n",
    "from gensim.models.ldamulticore import LdaMulticore\n",
    "from gensim.utils import simple_preprocess\n",
    "from gensim.models import CoherenceModel\n",
    "import pyLDAvis\n",
    "import pyLDAvis.gensim_models as gensimvis\n",
    "pyLDAvis.enable_notebook()\n",
    "\n",
    "from bertopic import BERTopic\n",
    "import ipywidgets\n",
    "\n",
    "from pandarallel import pandarallel\n",
    "import multiprocessing\n",
    "from multiprocessing import Pool\n",
    "\n",
    "import warnings\n",
    "warnings.filterwarnings(action = 'ignore', category = UserWarning, module = 'gensim')\n",
    "\n",
    "pd.set_option('display.max_rows', 100)\n",
    "pd.set_option('display.max_columns', None)\n",
    "pd.set_option('display.max_colwidth', 100)\n",
    "%matplotlib inline"
   ]
  },
  {
   "cell_type": "code",
   "execution_count": 2,
   "id": "3919562c-dfe9-41d5-930c-f11c682d0880",
   "metadata": {},
   "outputs": [
    {
     "name": "stdout",
     "output_type": "stream",
     "text": [
      "Available CPUs: 96\n"
     ]
    }
   ],
   "source": [
    "num_processors = multiprocessing.cpu_count()\n",
    "workers = num_processors-1\n",
    "print(f'Available CPUs: {num_processors}')"
   ]
  },
  {
   "cell_type": "code",
   "execution_count": 3,
   "id": "502db532-1e3b-46e7-9fef-3dd3571eb688",
   "metadata": {},
   "outputs": [
    {
     "name": "stdout",
     "output_type": "stream",
     "text": [
      "INFO: Pandarallel will run on 95 workers.\n",
      "INFO: Pandarallel will use standard multiprocessing data transfer (pipe) to transfer data between the main process and workers.\n"
     ]
    }
   ],
   "source": [
    "pandarallel.initialize(progress_bar=True, nb_workers=num_processors-1, use_memory_fs=False)"
   ]
  },
  {
   "cell_type": "code",
   "execution_count": 4,
   "id": "6db56a63-a4a2-4b09-98cb-87fea7fcdb69",
   "metadata": {},
   "outputs": [
    {
     "name": "stderr",
     "output_type": "stream",
     "text": [
      "[nltk_data] Downloading package stopwords to\n",
      "[nltk_data]     /home/jupyter/nltk_data...\n",
      "[nltk_data]   Package stopwords is already up-to-date!\n",
      "[nltk_data] Downloading package punkt to /home/jupyter/nltk_data...\n",
      "[nltk_data]   Package punkt is already up-to-date!\n",
      "[nltk_data] Downloading package vader_lexicon to\n",
      "[nltk_data]     /home/jupyter/nltk_data...\n",
      "[nltk_data]   Package vader_lexicon is already up-to-date!\n"
     ]
    },
    {
     "data": {
      "text/plain": [
       "True"
      ]
     },
     "execution_count": 4,
     "metadata": {},
     "output_type": "execute_result"
    }
   ],
   "source": [
    "nltk.download('stopwords')\n",
    "nltk.download('punkt')\n",
    "nltk.download('vader_lexicon')"
   ]
  },
  {
   "cell_type": "code",
   "execution_count": 5,
   "id": "85528fdf-6f08-4e5a-a7f7-ce8d339437e2",
   "metadata": {},
   "outputs": [
    {
     "name": "stdout",
     "output_type": "stream",
     "text": [
      "CPU times: user 4.7 s, sys: 3.04 s, total: 7.74 s\n",
      "Wall time: 7.66 s\n"
     ]
    },
    {
     "data": {
      "text/plain": [
       "(200284, 3)"
      ]
     },
     "execution_count": 5,
     "metadata": {},
     "output_type": "execute_result"
    }
   ],
   "source": [
    "%%time\n",
    "df = pd.read_parquet('df.parquet', engine = 'pyarrow')\n",
    "df.shape"
   ]
  },
  {
   "cell_type": "code",
   "execution_count": 6,
   "id": "8518d47a-0215-41d3-ac84-82fa48a202be",
   "metadata": {},
   "outputs": [
    {
     "data": {
      "text/html": [
       "<div>\n",
       "<style scoped>\n",
       "    .dataframe tbody tr th:only-of-type {\n",
       "        vertical-align: middle;\n",
       "    }\n",
       "\n",
       "    .dataframe tbody tr th {\n",
       "        vertical-align: top;\n",
       "    }\n",
       "\n",
       "    .dataframe thead th {\n",
       "        text-align: right;\n",
       "    }\n",
       "</style>\n",
       "<table border=\"1\" class=\"dataframe\">\n",
       "  <thead>\n",
       "    <tr style=\"text-align: right;\">\n",
       "      <th></th>\n",
       "      <th>date</th>\n",
       "      <th>clean_title</th>\n",
       "      <th>clean_text</th>\n",
       "    </tr>\n",
       "  </thead>\n",
       "  <tbody>\n",
       "    <tr>\n",
       "      <th>0</th>\n",
       "      <td>2021-03-18</td>\n",
       "      <td>Artificial intelligence improves parking efficiency in Chinese cities - People's Daily Online</td>\n",
       "      <td>Artificial intelligence improves parking efficiency in Chinese cities - People's Daily Online Ho...</td>\n",
       "    </tr>\n",
       "    <tr>\n",
       "      <th>1</th>\n",
       "      <td>2020-02-27</td>\n",
       "      <td>Children With Autism Saw Their Learning and Social Skills Boosted After Playing With This AI Rob...</td>\n",
       "      <td>Children With Autism Saw Their Learning and Social Skills Boosted After Playing With This AI Rob...</td>\n",
       "    </tr>\n",
       "    <tr>\n",
       "      <th>2</th>\n",
       "      <td>2021-03-26</td>\n",
       "      <td>Forget ML, AI and Industry 4.0 – obsolescence should be your focus - 26 February 2021 - Test &amp; R...</td>\n",
       "      <td>Forget ML, AI and Industry 4.0 – obsolescence should be your focus - 26 February 2021 - Test &amp; R...</td>\n",
       "    </tr>\n",
       "    <tr>\n",
       "      <th>3</th>\n",
       "      <td>2021-03-10</td>\n",
       "      <td>Strategy Analytics: 71% of Smartphones Sold Globally in 2021 will be AI Powered – Consumer Elect...</td>\n",
       "      <td>Strategy Analytics: 71% of Smartphones Sold Globally in 2021 will be AI Powered – Consumer Elect...</td>\n",
       "    </tr>\n",
       "    <tr>\n",
       "      <th>4</th>\n",
       "      <td>2020-10-20</td>\n",
       "      <td>Olympus to Support Endoscopic AI Diagnosis Education for Doctors in India and to Launch AI Diagn...</td>\n",
       "      <td>Olympus to Support Endoscopic AI Diagnosis Education for Doctors in India and to Launch AI Diagn...</td>\n",
       "    </tr>\n",
       "  </tbody>\n",
       "</table>\n",
       "</div>"
      ],
      "text/plain": [
       "        date   \n",
       "0 2021-03-18  \\\n",
       "1 2020-02-27   \n",
       "2 2021-03-26   \n",
       "3 2021-03-10   \n",
       "4 2020-10-20   \n",
       "\n",
       "                                                                                           clean_title   \n",
       "0        Artificial intelligence improves parking efficiency in Chinese cities - People's Daily Online  \\\n",
       "1  Children With Autism Saw Their Learning and Social Skills Boosted After Playing With This AI Rob...   \n",
       "2  Forget ML, AI and Industry 4.0 – obsolescence should be your focus - 26 February 2021 - Test & R...   \n",
       "3  Strategy Analytics: 71% of Smartphones Sold Globally in 2021 will be AI Powered – Consumer Elect...   \n",
       "4  Olympus to Support Endoscopic AI Diagnosis Education for Doctors in India and to Launch AI Diagn...   \n",
       "\n",
       "                                                                                            clean_text  \n",
       "0  Artificial intelligence improves parking efficiency in Chinese cities - People's Daily Online Ho...  \n",
       "1  Children With Autism Saw Their Learning and Social Skills Boosted After Playing With This AI Rob...  \n",
       "2  Forget ML, AI and Industry 4.0 – obsolescence should be your focus - 26 February 2021 - Test & R...  \n",
       "3  Strategy Analytics: 71% of Smartphones Sold Globally in 2021 will be AI Powered – Consumer Elect...  \n",
       "4  Olympus to Support Endoscopic AI Diagnosis Education for Doctors in India and to Launch AI Diagn...  "
      ]
     },
     "execution_count": 6,
     "metadata": {},
     "output_type": "execute_result"
    }
   ],
   "source": [
    "df.head()"
   ]
  },
  {
   "cell_type": "markdown",
   "id": "4c1c8a99-0758-4413-adb4-7cefb0d1b6db",
   "metadata": {
    "tags": []
   },
   "source": [
    "# Topic Modeling"
   ]
  },
  {
   "cell_type": "markdown",
   "id": "680d6412-6d8b-4b81-9cae-69e144af70d2",
   "metadata": {
    "tags": []
   },
   "source": [
    "## Using Latent Dirichlet Allocation (LDA)"
   ]
  },
  {
   "cell_type": "code",
   "execution_count": 7,
   "id": "3ad300ed-a862-4db7-a1c5-d762bd953b47",
   "metadata": {},
   "outputs": [
    {
     "data": {
      "text/plain": [
       "(200284, 3)"
      ]
     },
     "execution_count": 7,
     "metadata": {},
     "output_type": "execute_result"
    }
   ],
   "source": [
    "df_topic = df.copy()\n",
    "df_topic.shape"
   ]
  },
  {
   "cell_type": "code",
   "execution_count": 8,
   "id": "c3127be7-b0e6-4ad3-bc41-ed615bbf89c9",
   "metadata": {},
   "outputs": [
    {
     "data": {
      "text/html": [
       "<div>\n",
       "<style scoped>\n",
       "    .dataframe tbody tr th:only-of-type {\n",
       "        vertical-align: middle;\n",
       "    }\n",
       "\n",
       "    .dataframe tbody tr th {\n",
       "        vertical-align: top;\n",
       "    }\n",
       "\n",
       "    .dataframe thead th {\n",
       "        text-align: right;\n",
       "    }\n",
       "</style>\n",
       "<table border=\"1\" class=\"dataframe\">\n",
       "  <thead>\n",
       "    <tr style=\"text-align: right;\">\n",
       "      <th></th>\n",
       "      <th>date</th>\n",
       "      <th>clean_title</th>\n",
       "      <th>clean_text</th>\n",
       "    </tr>\n",
       "  </thead>\n",
       "  <tbody>\n",
       "    <tr>\n",
       "      <th>0</th>\n",
       "      <td>2021-03-18</td>\n",
       "      <td>Artificial intelligence improves parking efficiency in Chinese cities - People's Daily Online</td>\n",
       "      <td>Artificial intelligence improves parking efficiency in Chinese cities - People's Daily Online Ho...</td>\n",
       "    </tr>\n",
       "    <tr>\n",
       "      <th>1</th>\n",
       "      <td>2020-02-27</td>\n",
       "      <td>Children With Autism Saw Their Learning and Social Skills Boosted After Playing With This AI Rob...</td>\n",
       "      <td>Children With Autism Saw Their Learning and Social Skills Boosted After Playing With This AI Rob...</td>\n",
       "    </tr>\n",
       "    <tr>\n",
       "      <th>2</th>\n",
       "      <td>2021-03-26</td>\n",
       "      <td>Forget ML, AI and Industry 4.0 – obsolescence should be your focus - 26 February 2021 - Test &amp; R...</td>\n",
       "      <td>Forget ML, AI and Industry 4.0 – obsolescence should be your focus - 26 February 2021 - Test &amp; R...</td>\n",
       "    </tr>\n",
       "    <tr>\n",
       "      <th>3</th>\n",
       "      <td>2021-03-10</td>\n",
       "      <td>Strategy Analytics: 71% of Smartphones Sold Globally in 2021 will be AI Powered – Consumer Elect...</td>\n",
       "      <td>Strategy Analytics: 71% of Smartphones Sold Globally in 2021 will be AI Powered – Consumer Elect...</td>\n",
       "    </tr>\n",
       "    <tr>\n",
       "      <th>4</th>\n",
       "      <td>2020-10-20</td>\n",
       "      <td>Olympus to Support Endoscopic AI Diagnosis Education for Doctors in India and to Launch AI Diagn...</td>\n",
       "      <td>Olympus to Support Endoscopic AI Diagnosis Education for Doctors in India and to Launch AI Diagn...</td>\n",
       "    </tr>\n",
       "  </tbody>\n",
       "</table>\n",
       "</div>"
      ],
      "text/plain": [
       "        date   \n",
       "0 2021-03-18  \\\n",
       "1 2020-02-27   \n",
       "2 2021-03-26   \n",
       "3 2021-03-10   \n",
       "4 2020-10-20   \n",
       "\n",
       "                                                                                           clean_title   \n",
       "0        Artificial intelligence improves parking efficiency in Chinese cities - People's Daily Online  \\\n",
       "1  Children With Autism Saw Their Learning and Social Skills Boosted After Playing With This AI Rob...   \n",
       "2  Forget ML, AI and Industry 4.0 – obsolescence should be your focus - 26 February 2021 - Test & R...   \n",
       "3  Strategy Analytics: 71% of Smartphones Sold Globally in 2021 will be AI Powered – Consumer Elect...   \n",
       "4  Olympus to Support Endoscopic AI Diagnosis Education for Doctors in India and to Launch AI Diagn...   \n",
       "\n",
       "                                                                                            clean_text  \n",
       "0  Artificial intelligence improves parking efficiency in Chinese cities - People's Daily Online Ho...  \n",
       "1  Children With Autism Saw Their Learning and Social Skills Boosted After Playing With This AI Rob...  \n",
       "2  Forget ML, AI and Industry 4.0 – obsolescence should be your focus - 26 February 2021 - Test & R...  \n",
       "3  Strategy Analytics: 71% of Smartphones Sold Globally in 2021 will be AI Powered – Consumer Elect...  \n",
       "4  Olympus to Support Endoscopic AI Diagnosis Education for Doctors in India and to Launch AI Diagn...  "
      ]
     },
     "execution_count": 8,
     "metadata": {},
     "output_type": "execute_result"
    }
   ],
   "source": [
    "df_topic.head()"
   ]
  },
  {
   "cell_type": "code",
   "execution_count": 9,
   "id": "c035bee1-aafa-41d6-b66d-251f153e8d1b",
   "metadata": {},
   "outputs": [
    {
     "name": "stdout",
     "output_type": "stream",
     "text": [
      "CPU times: user 8min 30s, sys: 11.5 s, total: 8min 42s\n",
      "Wall time: 8min 42s\n"
     ]
    }
   ],
   "source": [
    "%%time\n",
    "\n",
    "# Tokenize text into words and remove punctuation\n",
    "def sent_to_words(sentences):\n",
    "    for sentence in sentences:\n",
    "        yield(gensim.utils.simple_preprocess(str(sentence), deacc=True))  # deacc=True removes punctuations\n",
    "data_list = df_topic['clean_text'].tolist()        \n",
    "data_tokens = list(sent_to_words(data_list))"
   ]
  },
  {
   "cell_type": "code",
   "execution_count": 10,
   "id": "30e2c813-d3bd-4270-9bee-76a62caddc6e",
   "metadata": {},
   "outputs": [
    {
     "name": "stdout",
     "output_type": "stream",
     "text": [
      "CPU times: user 13min 41s, sys: 22.2 s, total: 14min 3s\n",
      "Wall time: 14min 3s\n"
     ]
    }
   ],
   "source": [
    "%%time\n",
    "bigram = gensim.models.Phrases(data_tokens, min_count=1, threshold=1)\n",
    "trigram = gensim.models.Phrases(bigram[data_tokens], threshold=1)\n",
    "\n",
    "bigram_mod = gensim.models.phrases.Phraser(bigram)\n",
    "trigram_mod = gensim.models.phrases.Phraser(trigram)"
   ]
  },
  {
   "cell_type": "code",
   "execution_count": 11,
   "id": "b3379f01-8516-4fa6-86ed-e288f1ea11f9",
   "metadata": {},
   "outputs": [
    {
     "name": "stdout",
     "output_type": "stream",
     "text": [
      "CPU times: user 4.16 ms, sys: 5 µs, total: 4.17 ms\n",
      "Wall time: 2.74 ms\n"
     ]
    }
   ],
   "source": [
    "%%time\n",
    "from nltk.corpus import stopwords\n",
    "stop_words = stopwords.words('english')\n",
    "\n",
    "# Define functions for stopwords, bigrams, trigrams and lemmatization\n",
    "def remove_stopwords(texts):\n",
    "    return [[word for word in simple_preprocess(str(doc)) if word not in stop_words] for doc in texts]\n",
    "\n",
    "def make_bigrams(texts):\n",
    "    return [bigram_mod[doc] for doc in texts]\n",
    "\n",
    "def make_trigrams(texts):\n",
    "    return [trigram_mod[bigram_mod[doc]] for doc in texts]\n",
    "\n",
    "def lemmatization(texts, allowed_postags=['NOUN', 'ADJ', 'VERB', 'ADV']):\n",
    "    \"\"\"https://spacy.io/api/annotation\"\"\"\n",
    "    texts_out = []\n",
    "    for sent in texts:\n",
    "        doc = nlp(\" \".join(sent)) \n",
    "        texts_out.append([token.lemma_ for token in doc if token.pos_ in allowed_postags])\n",
    "    return texts_out"
   ]
  },
  {
   "cell_type": "code",
   "execution_count": 14,
   "id": "b543681f-6852-433c-9d7c-c40cfe52b9c6",
   "metadata": {},
   "outputs": [
    {
     "name": "stdout",
     "output_type": "stream",
     "text": [
      "CPU times: user 1h 51min 52s, sys: 3min 3s, total: 1h 54min 55s\n",
      "Wall time: 1h 54min 55s\n"
     ]
    }
   ],
   "source": [
    "%%time\n",
    "# Remove Stop Words\n",
    "data_tokens_nostops = remove_stopwords(data_tokens)\n",
    "\n",
    "# Create n-grams\n",
    "data_words_bigrams = make_bigrams(data_tokens_nostops)\n",
    "data_words_trigrams = make_trigrams(data_tokens_nostops)\n",
    "\n",
    "# Combine tokens and n-grams\n",
    "# data_tokens_combined = data_tokens_nostops + data_words_bigrams + data_words_trigrams\n",
    "data_tokens_combined = data_words_trigrams\n",
    "\n",
    "# Initialize spacy 'en' model, keeping only tagger component (for efficiency)\n",
    "nlp = spacy.load('en_core_web_lg', disable=['parser', 'ner'])\n",
    "\n",
    "# Lemmatize text keeping only noun, adj, vb, adv\n",
    "data_lemmatized = lemmatization(data_tokens_combined, allowed_postags=['NOUN', 'ADJ', 'VERB', 'ADV'])\n",
    "\n",
    "# print(*data_lemmatized[:1])\n",
    "\n",
    "# 1hr 27mins"
   ]
  },
  {
   "cell_type": "code",
   "execution_count": 15,
   "id": "edb93ceb-b7b4-4679-b5e5-5bc84271159b",
   "metadata": {},
   "outputs": [],
   "source": [
    "# Save data_lemmatized as a file using pickle\n",
    "with open('data_lemmatized.pkl', 'wb') as f:\n",
    "    pickle.dump(data_lemmatized, f)"
   ]
  },
  {
   "cell_type": "code",
   "execution_count": 16,
   "id": "aeb0a77c-a5a4-44cd-a9a0-39b2ad0a4d3e",
   "metadata": {},
   "outputs": [],
   "source": [
    "# Load data_lemmatized from the saved file\n",
    "with open('data_lemmatized.pkl', 'rb') as f:\n",
    "    data_lemmatized = pickle.load(f)"
   ]
  },
  {
   "cell_type": "code",
   "execution_count": null,
   "id": "32975e8a-3b96-489e-b3d6-9bce90e83e3b",
   "metadata": {},
   "outputs": [],
   "source": [
    "# Creating the term dictionary of our courpus, where every unique term is assigned an index. \n",
    "dictionary = corpora.Dictionary(data_lemmatized)\n",
    "\n",
    "# Converting list of documents (corpus) into Document Term Matrix using dictionary prepared above.\n",
    "doc_term_matrix = [dictionary.doc2bow(doc) for doc in data_lemmatized]"
   ]
  },
  {
   "cell_type": "code",
   "execution_count": null,
   "id": "2550befd-1486-4245-a0c8-4db2bf6632a2",
   "metadata": {},
   "outputs": [],
   "source": [
    "# Tune LDA model\n",
    "def compute_coherence_values(corpus, dictionary, k, a, b):\n",
    "    lda_model = LdaMulticore(corpus=doc_term_matrix,\n",
    "                       id2word=dictionary,\n",
    "                       num_topics=k,\n",
    "                       random_state=100,                  \n",
    "                       passes=10,\n",
    "                       alpha=a,\n",
    "                       eta=b,\n",
    "                       workers=workers)\n",
    "    coherence_model_lda = CoherenceModel(model=lda_model, texts=data_lemmatized, dictionary=dictionary, coherence='c_v')\n",
    "    \n",
    "    return coherence_model_lda.get_coherence()"
   ]
  },
  {
   "cell_type": "code",
   "execution_count": 19,
   "id": "d769e41f-0a58-4b4d-bc15-acc626c17d86",
   "metadata": {},
   "outputs": [
    {
     "name": "stdout",
     "output_type": "stream",
     "text": [
      "Completed model based on 2 LDA topics. Finished 11.1% of LDA runs\n",
      "Completed model based on 3 LDA topics. Finished 22.2% of LDA runs\n",
      "Completed model based on 4 LDA topics. Finished 33.3% of LDA runs\n",
      "Completed model based on 5 LDA topics. Finished 44.4% of LDA runs\n",
      "Completed model based on 6 LDA topics. Finished 55.6% of LDA runs\n",
      "Completed model based on 7 LDA topics. Finished 66.7% of LDA runs\n",
      "Completed model based on 8 LDA topics. Finished 77.8% of LDA runs\n",
      "Completed model based on 9 LDA topics. Finished 88.9% of LDA runs\n",
      "Completed model based on 10 LDA topics. Finished 100.0% of LDA runs\n",
      "CPU times: user 1h 13min 2s, sys: 55min 33s, total: 2h 8min 36s\n",
      "Wall time: 2h 10min 11s\n"
     ]
    }
   ],
   "source": [
    "%%time\n",
    "grid = {}\n",
    "grid['Validation_Set'] = {}\n",
    "\n",
    "# Topics range\n",
    "min_topics = 2\n",
    "max_topics = 10\n",
    "step_size = 1\n",
    "topics_range = range(min_topics, max_topics+1, step_size)\n",
    "\n",
    "# Alpha parameter\n",
    "# alpha = list(np.arange(0.01, 1, 0.3))\n",
    "# alpha.append('symmetric')\n",
    "# alpha.append('asymmetric')\n",
    "alpha = ['asymmetric'] # Run for number of topics only\n",
    "\n",
    "# Beta parameter\n",
    "# beta = list(np.arange(0.01, 1, 0.3))\n",
    "# beta.append('symmetric')\n",
    "beta = ['auto'] # Run for number of topics only\n",
    "\n",
    "# Validation sets\n",
    "num_of_docs = len(doc_term_matrix)\n",
    "corpus_sets = [doc_term_matrix]\n",
    "corpus_title = ['100% Corpus']\n",
    "model_results = {\n",
    "                 'Topics': [],\n",
    "                 'Alpha': [],\n",
    "                 'Beta': [],\n",
    "                 'Coherence': []\n",
    "                }\n",
    "itr = 0\n",
    "itr_total = len(beta)*len(alpha)*len(topics_range)*len(corpus_title)\n",
    "print(f'LDA will execute {itr_total} iterations')\n",
    "\n",
    "# iterate through hyperparameters\n",
    "for i in range(len(corpus_sets)):\n",
    "    \n",
    "    # iterate through number of topics\n",
    "    for k in topics_range:\n",
    "        \n",
    "        # iterate through alpha values\n",
    "        for a in alpha:\n",
    "            \n",
    "            # iterare through beta values\n",
    "            for b in beta:\n",
    "                \n",
    "                # get the coherence score for the given parameters\n",
    "                itr += 1\n",
    "                cv = compute_coherence_values(corpus=corpus_sets[i], dictionary=dictionary, k=k, a=a, b=b)\n",
    "                \n",
    "                # Save the model results\n",
    "                model_results['Topics'].append(k)\n",
    "                model_results['Alpha'].append(a)\n",
    "                model_results['Beta'].append(b)\n",
    "                model_results['Coherence'].append(cv)\n",
    "                pct_completed = round((itr / itr_total * 100),1)\n",
    "#                 print(f'Completed Percent: {pct_completed}%, Corpus: {corpus_title[i]}, Topics: {k}, Alpha: {a}, Beta: {b}, Coherence: {cv}')\n",
    "        print(f'Completed model based on {k} LDA topics. Finished {pct_completed}% of LDA runs')\n",
    "                            \n",
    "lda_tuning = pd.DataFrame(model_results)\n",
    "\n",
    "# 1hr 44mins"
   ]
  },
  {
   "cell_type": "code",
   "execution_count": 20,
   "id": "73b0bace-976a-4c3b-9d0d-f603c0dd4700",
   "metadata": {},
   "outputs": [
    {
     "data": {
      "text/html": [
       "<div>\n",
       "<style scoped>\n",
       "    .dataframe tbody tr th:only-of-type {\n",
       "        vertical-align: middle;\n",
       "    }\n",
       "\n",
       "    .dataframe tbody tr th {\n",
       "        vertical-align: top;\n",
       "    }\n",
       "\n",
       "    .dataframe thead th {\n",
       "        text-align: right;\n",
       "    }\n",
       "</style>\n",
       "<table border=\"1\" class=\"dataframe\">\n",
       "  <thead>\n",
       "    <tr style=\"text-align: right;\">\n",
       "      <th></th>\n",
       "      <th>Topics</th>\n",
       "      <th>Alpha</th>\n",
       "      <th>Beta</th>\n",
       "      <th>Coherence</th>\n",
       "    </tr>\n",
       "  </thead>\n",
       "  <tbody>\n",
       "    <tr>\n",
       "      <th>0</th>\n",
       "      <td>2</td>\n",
       "      <td>asymmetric</td>\n",
       "      <td>auto</td>\n",
       "      <td>0.366391</td>\n",
       "    </tr>\n",
       "    <tr>\n",
       "      <th>1</th>\n",
       "      <td>3</td>\n",
       "      <td>asymmetric</td>\n",
       "      <td>auto</td>\n",
       "      <td>0.378532</td>\n",
       "    </tr>\n",
       "    <tr>\n",
       "      <th>2</th>\n",
       "      <td>4</td>\n",
       "      <td>asymmetric</td>\n",
       "      <td>auto</td>\n",
       "      <td>0.362536</td>\n",
       "    </tr>\n",
       "    <tr>\n",
       "      <th>3</th>\n",
       "      <td>5</td>\n",
       "      <td>asymmetric</td>\n",
       "      <td>auto</td>\n",
       "      <td>0.345876</td>\n",
       "    </tr>\n",
       "    <tr>\n",
       "      <th>4</th>\n",
       "      <td>6</td>\n",
       "      <td>asymmetric</td>\n",
       "      <td>auto</td>\n",
       "      <td>0.332175</td>\n",
       "    </tr>\n",
       "  </tbody>\n",
       "</table>\n",
       "</div>"
      ],
      "text/plain": [
       "   Topics       Alpha  Beta  Coherence\n",
       "0       2  asymmetric  auto   0.366391\n",
       "1       3  asymmetric  auto   0.378532\n",
       "2       4  asymmetric  auto   0.362536\n",
       "3       5  asymmetric  auto   0.345876\n",
       "4       6  asymmetric  auto   0.332175"
      ]
     },
     "execution_count": 20,
     "metadata": {},
     "output_type": "execute_result"
    }
   ],
   "source": [
    "lda_tuning.head()"
   ]
  },
  {
   "cell_type": "code",
   "execution_count": 21,
   "id": "8b3eaf73-7380-431a-876a-174e01bda30f",
   "metadata": {},
   "outputs": [],
   "source": [
    "lda_tuning.to_csv(\"lda_topics.csv\")"
   ]
  },
  {
   "cell_type": "code",
   "execution_count": 22,
   "id": "5baccd2b-171a-44cb-a733-168934fc30d7",
   "metadata": {},
   "outputs": [
    {
     "data": {
      "text/html": [
       "<div>\n",
       "<style scoped>\n",
       "    .dataframe tbody tr th:only-of-type {\n",
       "        vertical-align: middle;\n",
       "    }\n",
       "\n",
       "    .dataframe tbody tr th {\n",
       "        vertical-align: top;\n",
       "    }\n",
       "\n",
       "    .dataframe thead th {\n",
       "        text-align: right;\n",
       "    }\n",
       "</style>\n",
       "<table border=\"1\" class=\"dataframe\">\n",
       "  <thead>\n",
       "    <tr style=\"text-align: right;\">\n",
       "      <th></th>\n",
       "      <th>Topics</th>\n",
       "      <th>Alpha</th>\n",
       "      <th>Beta</th>\n",
       "      <th>Coherence</th>\n",
       "    </tr>\n",
       "  </thead>\n",
       "  <tbody>\n",
       "    <tr>\n",
       "      <th>1</th>\n",
       "      <td>3</td>\n",
       "      <td>asymmetric</td>\n",
       "      <td>auto</td>\n",
       "      <td>0.378532</td>\n",
       "    </tr>\n",
       "    <tr>\n",
       "      <th>0</th>\n",
       "      <td>2</td>\n",
       "      <td>asymmetric</td>\n",
       "      <td>auto</td>\n",
       "      <td>0.366391</td>\n",
       "    </tr>\n",
       "    <tr>\n",
       "      <th>2</th>\n",
       "      <td>4</td>\n",
       "      <td>asymmetric</td>\n",
       "      <td>auto</td>\n",
       "      <td>0.362536</td>\n",
       "    </tr>\n",
       "    <tr>\n",
       "      <th>3</th>\n",
       "      <td>5</td>\n",
       "      <td>asymmetric</td>\n",
       "      <td>auto</td>\n",
       "      <td>0.345876</td>\n",
       "    </tr>\n",
       "    <tr>\n",
       "      <th>4</th>\n",
       "      <td>6</td>\n",
       "      <td>asymmetric</td>\n",
       "      <td>auto</td>\n",
       "      <td>0.332175</td>\n",
       "    </tr>\n",
       "    <tr>\n",
       "      <th>5</th>\n",
       "      <td>7</td>\n",
       "      <td>asymmetric</td>\n",
       "      <td>auto</td>\n",
       "      <td>0.319926</td>\n",
       "    </tr>\n",
       "    <tr>\n",
       "      <th>6</th>\n",
       "      <td>8</td>\n",
       "      <td>asymmetric</td>\n",
       "      <td>auto</td>\n",
       "      <td>0.319237</td>\n",
       "    </tr>\n",
       "    <tr>\n",
       "      <th>8</th>\n",
       "      <td>10</td>\n",
       "      <td>asymmetric</td>\n",
       "      <td>auto</td>\n",
       "      <td>0.319189</td>\n",
       "    </tr>\n",
       "    <tr>\n",
       "      <th>7</th>\n",
       "      <td>9</td>\n",
       "      <td>asymmetric</td>\n",
       "      <td>auto</td>\n",
       "      <td>0.316381</td>\n",
       "    </tr>\n",
       "  </tbody>\n",
       "</table>\n",
       "</div>"
      ],
      "text/plain": [
       "   Topics       Alpha  Beta  Coherence\n",
       "1       3  asymmetric  auto   0.378532\n",
       "0       2  asymmetric  auto   0.366391\n",
       "2       4  asymmetric  auto   0.362536\n",
       "3       5  asymmetric  auto   0.345876\n",
       "4       6  asymmetric  auto   0.332175\n",
       "5       7  asymmetric  auto   0.319926\n",
       "6       8  asymmetric  auto   0.319237\n",
       "8      10  asymmetric  auto   0.319189\n",
       "7       9  asymmetric  auto   0.316381"
      ]
     },
     "execution_count": 22,
     "metadata": {},
     "output_type": "execute_result"
    }
   ],
   "source": [
    "lda_tuning.sort_values(by=['Coherence'], ascending=False).head(10)"
   ]
  },
  {
   "cell_type": "code",
   "execution_count": 23,
   "id": "be9d4caa-5e0c-4a21-8777-f426389cc029",
   "metadata": {},
   "outputs": [
    {
     "data": {
      "text/plain": [
       "<AxesSubplot: title={'center': 'Overall LDA Tuning'}, xlabel='Topics'>"
      ]
     },
     "execution_count": 23,
     "metadata": {},
     "output_type": "execute_result"
    },
    {
     "data": {
      "image/png": "[encoded data removed]",
      "text/plain": [
       "<Figure size 640x480 with 1 Axes>"
      ]
     },
     "metadata": {},
     "output_type": "display_data"
    }
   ],
   "source": [
    "lda_tuning.plot(x ='Topics', y='Coherence', title = 'Overall LDA Tuning',kind = 'line', xticks=range(1,11))"
   ]
  },
  {
   "cell_type": "code",
   "execution_count": 24,
   "id": "1dd85d17-ef8d-40b9-a410-16eb65647447",
   "metadata": {},
   "outputs": [
    {
     "name": "stdout",
     "output_type": "stream",
     "text": [
      "Best Parameters: Topics: 3, Alpha: asymmetric, Beta: auto\n"
     ]
    }
   ],
   "source": [
    "lda_tuning_best = lda_tuning.sort_values(by=['Coherence'], ascending=False).head(1)\n",
    "tuned_topics = int(lda_tuning_best['Topics'].to_string(index=False))\n",
    "\n",
    "# Since the values for Alpha and Beta can be float, symmetric and asymmetric, we will either strip or convert to float\n",
    "try:\n",
    "    tuned_alpha = float(lda_tuning_best['Alpha'].to_string(index=False))\n",
    "except:\n",
    "    tuned_alpha = lda_tuning_best['Alpha'].to_string(index=False).strip()\n",
    "try:\n",
    "    tuned_beta = float(lda_tuning_best['Beta'].to_string(index=False))\n",
    "except:\n",
    "    tuned_beta = lda_tuning_best['Beta'].to_string(index=False).strip()    \n",
    "    \n",
    "print(f'Best Parameters: Topics: {tuned_topics}, Alpha: {tuned_alpha}, Beta: {tuned_beta}')"
   ]
  },
  {
   "cell_type": "code",
   "execution_count": 25,
   "id": "cc7e2b46-7503-4b33-be37-2815662770d9",
   "metadata": {},
   "outputs": [],
   "source": [
    "best_lda = LdaMulticore(corpus=doc_term_matrix,\n",
    "                   id2word=dictionary,\n",
    "                   num_topics=4,\n",
    "                   random_state=100,\n",
    "                   passes=10,\n",
    "                   alpha='asymmetric',\n",
    "                   eta='auto',\n",
    "                   workers=workers)"
   ]
  },
  {
   "cell_type": "code",
   "execution_count": 26,
   "id": "6eb01654-e542-420f-95bb-8d887fbb9d9c",
   "metadata": {},
   "outputs": [
    {
     "data": {
      "text/html": [
       "\n",
       "<link rel=\"stylesheet\" type=\"text/css\" href=\"https://cdn.jsdelivr.net/gh/bmabey/pyLDAvis@3.4.0/pyLDAvis/js/ldavis.v1.0.0.css\">\n",
       "\n",
       "\n",
       "<div id=\"ldavis_el521371402824307048809702117822\" style=\"background-color:white;\"></div>\n",
       "<script type=\"text/javascript\">\n",
       "\n",
       "var ldavis_el521371402824307048809702117822_data = {\"mdsDat\": {\"x\": [-0.07733858045752581, -0.05197428920639966, 0.04164988526279242, 0.08766298440113306], \"y\": [-0.05434322094124053, 0.04323342552465139, -0.08782693341652327, 0.0989367288331124], \"topics\": [1, 2, 3, 4], \"cluster\": [1, 1, 1, 1], \"Freq\": [52.99348690259262, 7.089996904374608, 22.907828164979875, 17.00868802805289]}, \"tinfo\": {\"Term\": [\"market\", \"ai\", \"report\", \"use\", \"technology\", \"analysis\", \"forecast\", \"news\", \"industry\", \"company\", \"global\", \"datum\", \"business\", \"growth\", \"solution\", \"service\", \"new\", \"application\", \"market_report\", \"trade\", \"prnewswire\", \"product\", \"log\", \"provide\", \"research\", \"statement\", \"group\", \"market_research\", \"base\", \"term\", \"show_nominee\", \"wise_agent\", \"imperial_claims_service\", \"srmh\", \"reports_slideshows_white_paper\", \"ai_sequencer\", \"columbus_teen\", \"plnar\", \"true_isheading_false\", \"luke_dormehl\", \"partner_perspectives_microsofttech_library\", \"robot_lily\", \"rubikcloud\", \"carstory\", \"unlock_saving\", \"strikevision\", \"watch_neuralink_brain_implant\", \"company_aitx\", \"assembly_calculus\", \"weapon_detection_projects_profitability\", \"reading_library_webinar\", \"cnapp_ening_bre\", \"wins_keystone\", \"republic_cement\", \"uncovering_striking\", \"scribble_data\", \"text_isparagraph\", \"metagamz\", \"papadimitriou_said\", \"affairs_frontier\", \"publisher_websiteread\", \"app_sign_inchange\", \"info_help\", \"centercomments_community\", \"diabetes_foot\", \"animate_slide\", \"add_commentyou_may_also\", \"liketerm\", \"major_power\", \"ai_baby_crye\", \"parkinson_progression_markers_initiative\", \"microsoft_adds_ai_tool\", \"productive_freee\", \"neuroscience_software\", \"fintech_wale\", \"launch_kempner_institute\", \"recent_ruling\", \"excel_outlook\", \"tab_open\", \"real_info\", \"old_bailey\", \"outlook_word\", \"outmy_accountsign\", \"feb_feb_feb_feb\", \"main_benefit\", \"study_natural\", \"integrating_generative_ai_tool\", \"co_workers_use\", \"workspace_application\", \"straits_time\", \"chatgpt\", \"admin_l\", \"recaptcha\", \"service_apply\", \"chatgpt_prompt\", \"welcome_backedit_account_sign\", \"link_read\", \"daughter\", \"news_interview\", \"internet_driver\", \"supervised_visit\", \"artist\", \"icon\", \"child\", \"cheat\", \"think\", \"say\", \"dress\", \"admit\", \"write\", \"ban\", \"story\", \"video\", \"go\", \"style\", \"ask\", \"leave\", \"text\", \"pose\", \"reveal\", \"movie\", \"word\", \"argue\", \"show\", \"lot\", \"game\", \"prompt\", \"question\", \"tell\", \"work\", \"image\", \"people\", \"want\", \"use\", \"come\", \"take\", \"even\", \"get\", \"see\", \"make\", \"read\", \"call\", \"new\", \"create\", \"time\", \"ai\", \"find\", \"know\", \"also\", \"way\", \"need\", \"technology\", \"company\", \"news\", \"system\", \"world\", \"year\", \"help\", \"business\", \"datum\", \"learn\", \"report\", \"global_postpartum_hemorrhage_pph\", \"devices_sales_revenue\", \"drw_securitie\", \"postpartum_hemorrhage_pph_treatment\", \"banner_template\", \"earnings_came\", \"hip_ray\", \"beneath_amedeo\", \"technologies_co_versa\", \"modigliani_portrait\", \"fm_molek_fm_opinion\", \"live_fast_motorsport\", \"market_citic_dicastal\", \"chongqing_jinghong_blonder_tongue\", \"african_supply_chain\", \"tells_govt_department\", \"zeigler\", \"regional_overview_feb_hitesh\", \"globe_telecom_inc\", \"average_full\", \"ceo_token\", \"ewg_elevate_inc\", \"iqui\", \"features_native_resolution\", \"wireless_vigilent\", \"laboratories_us_sumavision\", \"project_medal\", \"gaming_hotel\", \"avnet_empower\", \"eid_robotic\", \"lisk_machine_learne\", \"writerssubmit_story\", \"cae_revenue\", \"link_machine_learne\", \"decentralized_machine_learne\", \"presently_possible\", \"traded_lower\", \"matrix_ai_network\", \"using_dollars_investors_seeke\", \"btc_xrp\", \"deals_dollar\", \"buy_alternative\", \"exchanges_liste\", \"aforementioned_exchange\", \"lisk_machine_learning_directly\", \"gny_io\", \"usdt_traded\", \"circulating_supply\", \"dot_trade\", \"receive_news_update\", \"xrp_trade\", \"schedule_wdpn_tv_schedule\", \"wisdom_coalition\", \"berks_traffic_corridor_u\", \"approximately_worth\", \"reddit_community\", \"recalls_missing_persons_weather\", \"river_levels_pocono_camera\", \"purchase_alternative\", \"schedule_wfmz_tv_metv\", \"email_alerts_mobile\", \"freddy_award\", \"comptop_stockspenny\", \"stormcenter_school_business\", \"retro_tv_order_copy\", \"polite_inappropriate\", \"poconos\", \"western_nj_including_allentown\", \"brokersmutual_fund\", \"accuweather_radar_wsi_radar\", \"hour_local_radar_radar\", \"tech_history_headlines_one\", \"music_monday_program_schedule\", \"schools_u\", \"posts_containing_offsite_link\", \"coal_region_southeastern_pa\", \"youtube_instagram_email_io\", \"recipes_mr_food_thing\", \"similar_post\", \"tank_trip_signature_dish\", \"trade\", \"dollar\", \"please_note\", \"stocks_stock\", \"account_dashboard_profile_saved\", \"th_anniversary\", \"facebook_twitter_whatsapp_sm\", \"fcc_public_inspection_file\", \"ai\", \"use\", \"technology\", \"employment\", \"republic\", \"market\", \"news\", \"new\", \"log\", \"company\", \"datum\", \"business\", \"term\", \"industry\", \"need\", \"post\", \"report\", \"make\", \"team\", \"say\", \"solution\", \"sign\", \"world\", \"learn\", \"provide\", \"service\", \"base\", \"analysis\", \"also\", \"group\", \"global\", \"get\", \"see\", \"work\", \"pricing_tool\", \"reactev\", \"cloudquant\", \"\\u043e\\u0442\\u0432\\u0435\\u0442\\u0438\\u0442\\u044c_likedata_id_type\", \"urban_scene\", \"slab_grade\", \"ready_vision\", \"count_dislikes_null_gtm_comment\", \"self_injurious\", \"face_analyzer\", \"mathematics_literacy\", \"cisos_disagree\", \"drapeau\", \"content_ishidden_false_count_like\", \"nsac_nsac\", \"grade_crosse\", \"zenonco_io\", \"adfox_method_createadaptive\", \"osnova_io\", \"suitestensa_pac\", \"wskg_public\", \"aizon\", \"increasingly_innovate\", \"average_data_scientist\", \"united_states_protecte\", \"driverless_test\", \"https_vc_ru_service\", \"ed_ee_url_http\", \"united_image\", \"hanshow\", \"type_place\", \"state_withuser\", \"typestr_comment\", \"adfox_ownerid\", \"project_linchpin\", \"imerit_self_serve_api\", \"experiences_obsessions_people_remarkable\", \"defunding_misinformation\", \"shows_tv_schedule_listen\", \"ownerid_param\", \"createadaptive_adfox\", \"regulated_market\", \"transactions_occurre\", \"digi_symbol\", \"parliament_mental_health_interactive\", \"cna_live_podcasts_radio\", \"living_cna_eyewitness_send\", \"shares_buy_back_digi\", \"digi_communications_report\", \"communications_report\", \"display_none_page_id\", \"events_partnerships_branded_content\", \"wimbledon_app\", \"resources_blog_journalists_rss\", \"transactions_occurred\", \"notification_shares_buy_back\", \"buy_back_digi_communication\", \"pr_newswire_cision_communication\", \"digi_communication\", \"publishing_information_services_radio\", \"send_release\", \"media_inquiries_worldwide_office\", \"food_product_recalls_restaurant\", \"law_fsa_regulation\", \"internet_protocol_wireless_communication\", \"cloud_cision\", \"wines_spirits_beverages_bridal\", \"videos_multimedia_gallery_overview\", \"products_containers_precious_metal\", \"overviewview\", \"multimedia_internet_peripherals_social\", \"media_stem_science_tech\", \"veterans_woman\", \"results_found_please_change\", \"labor_union_legal_issue\", \"international_affairs_homeland_security\", \"cision_communication_cloud\", \"security_policy_site_map\", \"disabilities_religion\", \"focus_browse\", \"news_release\", \"expert_contact\", \"hardware_computer_software\", \"law_public\", \"prnewswire\", \"necessarily_state\", \"multimedia_photos\", \"views_opinion\", \"download_multimedia\", \"endorse\", \"statement\", \"reflect\", \"ai\", \"customer\", \"solution\", \"service\", \"datum\", \"group\", \"organization\", \"company\", \"platform\", \"group_inc_station_gray\", \"log\", \"experience\", \"technology\", \"partner\", \"product\", \"support\", \"use\", \"business\", \"skip\", \"new\", \"include\", \"learn\", \"provide\", \"make\", \"industry\", \"news\", \"work\", \"market\", \"need\", \"help\", \"say\", \"time\", \"franklin_international_low_volatility\", \"prolog_programme\", \"bard_avenue\", \"high_dividend_index_etf\", \"shortage_automotive_artificial\", \"bratko_author\", \"urine_meter\", \"global_urine_meter\", \"non_uv_dicing_tape\", \"cool_media\", \"recipe_box_delivery_service\", \"calibration_software_market\", \"competitors_urine_meter\", \"overview_automotive_artificial\", \"outsmart_hot_flashes\", \"paper_tape\", \"pellet_mill\", \"venture_visionary_partners_llc\", \"batter_breading_machine\", \"start_wave\", \"abagailabagail\", \"growth_etf\", \"drone_supervision\", \"depth_study_total\", \"iu_nsk_iu_nsk\", \"intravenous_access_device\", \"laboratory_equipment_service\", \"mickoski\", \"usa_outdoor_payment_terminal\", \"key_applications\", \"cyber_data_science\", \"high_power_rf\", \"vascular_access_device_market\", \"watch_hal_st_paddy\", \"crowdsourcing_software\", \"spinal_devices_market\", \"trailer_camper\", \"round_bed\", \"fashion_retail_market\", \"market_report\", \"mobile_artificial_intelligence\", \"trade_surveillance_system\", \"data_science_platform\", \"top_player\", \"enteral_feeding_bags_market\", \"global_artificial_intelligence_software\", \"aviation_market\", \"owns_share\", \"market_growth\", \"key_player\", \"market_global\", \"top_manufacturer\", \"top_key_player\", \"growth_analysis\", \"share_growth\", \"manufacturing_market\", \"major_player\", \"swot_analysis\", \"additional_share\", \"market_segmentation\", \"forecast_period\", \"report_provide\", \"search_recent_post\", \"artificial_intelligence_robotics_etf\", \"market_research\", \"market_trend\", \"global_artificial_intelligence\", \"market_segment\", \"industry_analysis\", \"growth_factor\", \"market\", \"forecast\", \"market_overview\", \"software_market\", \"global_machine_learne\", \"market_forecast\", \"market_share\", \"growth_rate\", \"report_cover\", \"market_player\", \"segment\", \"analysis\", \"top_companie\", \"cagr\", \"growth\", \"region\", \"report\", \"global\", \"industry\", \"application\", \"news\", \"study\", \"expect\", \"revenue\", \"company\", \"research\", \"impact\", \"ai\", \"business\", \"trend\", \"technology\", \"service\", \"share\", \"datum\", \"base\", \"development\", \"product\", \"include\", \"provide\", \"use\", \"information\", \"new\", \"say\"], \"Freq\": [417928.0, 950064.0, 200118.0, 413631.0, 334814.0, 118314.0, 83613.0, 247881.0, 156735.0, 332884.0, 115138.0, 219809.0, 198329.0, 66821.0, 125681.0, 151628.0, 238440.0, 106661.0, 34947.0, 24998.0, 54506.0, 113879.0, 66347.0, 114058.0, 109094.0, 64571.0, 90010.0, 29062.0, 125950.0, 97039.0, 427.2541682663735, 262.77743945960725, 86.75706644593727, 60.13590773030687, 44.10900913167329, 85.96641223686365, 63.75564544447323, 142.0557263722545, 141.64477787602215, 109.61043592016897, 44.736345980462275, 175.4128778830811, 50.564423644903826, 41.47182294519985, 52.098833105053686, 63.242547268897695, 107.83807656756406, 76.67949100909131, 85.45242129991215, 63.37227593169941, 42.62739626527724, 32.60907931404926, 41.42357518321884, 99.65487120470563, 57.40869177650343, 77.74342295364053, 96.24559715396444, 74.22277402267116, 63.07494388105482, 57.43254125897578, 429.7411927623623, 444.40560609915786, 649.9607669952858, 554.5043399795362, 329.68822727933116, 458.0752591065866, 482.2482690261454, 208.71640187506372, 138.47362763228978, 263.78447429170177, 126.40541848356594, 512.0717241497027, 327.50262375838423, 119.5428584056786, 118.22018798234816, 328.21893529287706, 130.8782302725345, 501.33799615489363, 3722.643836793491, 1714.1212584567563, 477.4373132379165, 450.4245337301283, 659.4763819964852, 907.951026718547, 2571.2816296141, 330.8050833549736, 330.37485739664885, 313.12083316575297, 326.5328143703302, 846.3200992421331, 82007.040794558, 1685.7751340368047, 1628.206294009663, 2201.7586216250447, 798.2932783102194, 728.3281799087473, 880.1623564149155, 4655.94335030616, 1263.4121541394616, 856.800607646667, 493.5219514683985, 10734.65454971527, 7264.055908457434, 17537.31876446894, 3851.235855908112, 49633.606147148, 218802.57422521303, 5201.255788240564, 6372.74570644183, 43221.83036650146, 8355.08049407753, 43036.12363304248, 61018.96640559336, 81338.29076294658, 10344.042152787863, 35723.42186059617, 24624.160782301766, 22052.31941062877, 7562.964598880598, 26687.54760519813, 6187.689985399555, 19209.751854140388, 5331.350923789961, 62792.49835968555, 24260.7138077536, 30429.628318028746, 12146.057384181864, 30406.540132988794, 24863.62649854832, 140024.89536444153, 47560.707419427585, 83211.83722035204, 61153.98519356183, 270913.01152765646, 65887.41534623563, 74410.8537854333, 52421.85868896706, 104338.08850007257, 100997.20358815344, 138443.56443788623, 66540.78248870576, 44342.6758719574, 146038.08137260456, 71170.52159985887, 92560.15390302453, 457293.18863968743, 60848.80086216727, 68490.12341300961, 92149.64011588121, 66234.06263866268, 93993.82175789475, 169991.00086301332, 153719.0780844043, 123310.8144504582, 74915.05004022586, 77344.96872629547, 73008.27622567343, 77308.06087341878, 92752.10956417944, 93128.2403976671, 66437.45949675803, 67336.97265310027, 70.52610848954302, 45.87766138968565, 40.34248217993757, 248.79801151398135, 17.155095229369103, 30.481080573235044, 46.24029920872939, 18.243492661369167, 36.335997573266866, 18.205486156283172, 30.624562575701884, 58.584392615773936, 33.332718412065304, 36.25193899796729, 34.339435777736675, 28.543139716628033, 39.97973681092298, 22.08012690829499, 23.1999537510094, 30.571670740995522, 32.27872662939619, 39.85859417836438, 68.7679932524779, 45.96880171691244, 25.54113047239006, 35.98710960434349, 17.45348641870636, 52.94728498941463, 26.86883899915939, 22.55399414816043, 1665.4807263662883, 89.90235260454749, 90.33337979544437, 1110.9105861150615, 1789.6497820125114, 323.1004973110088, 864.177980787571, 870.4242183565667, 334.7218838696544, 321.4866851790726, 419.3909789884113, 509.4574942138603, 298.53373441401743, 427.8293497018663, 210.74024645726175, 222.11160415288845, 387.1376693127048, 499.0446384046622, 273.4317035851446, 304.434025092139, 200.91827018795306, 2383.1045645887066, 1789.9995014254405, 2361.6408996354844, 368.81188230921185, 508.05203119469854, 1102.366154584192, 2352.3446110775762, 381.9524039331406, 2350.2897116959307, 2340.768130768301, 1480.2411571144935, 720.0455326431351, 1191.7755891261515, 1926.3953672354885, 1156.987773383374, 1409.4232407347909, 1185.3194140140426, 713.5483892652043, 1182.6426441547515, 1179.6068890388883, 1400.7284377985136, 792.6041701203853, 1269.4467882026665, 1115.9944897836301, 923.1417062870955, 1024.2407967999711, 1076.1684377445247, 1141.0339761679122, 1007.340692210161, 13632.93105788518, 9609.596911657114, 1166.9155953701554, 1518.2333663274383, 2089.970202727006, 2450.6906870748976, 2169.791871743885, 1437.5835956272576, 61319.404755360105, 32740.3724531425, 28459.116401172752, 2746.3674640630647, 1895.3508199553205, 26530.103300738898, 18366.960706305345, 16626.20625172059, 8238.084737818794, 18013.098667052865, 14320.863294368515, 13219.641603843438, 9345.874058318086, 11368.898937831418, 10905.783600921763, 6706.773824511901, 11947.954864124655, 11982.55087690402, 8496.068592343687, 13121.758290551492, 9304.030567379492, 8719.487673219212, 9257.90043243322, 8755.82301721958, 8640.924967615038, 9335.720811592388, 8654.353028222591, 8355.288658798514, 8799.281412335968, 7288.202865731326, 7848.637093685869, 8306.674218802336, 8186.0906475384, 8526.688763985003, 805.9447471550878, 57.717985325131295, 68.54529159288283, 547.6196564069386, 58.09609295698985, 100.3647585544632, 122.91373553933599, 1029.4597447959984, 49.89330713490252, 99.49832064922553, 85.03852545431629, 38.71149948490875, 38.386738970017504, 1060.945757192935, 79.38395826384674, 39.24679834298092, 106.72525451795974, 199.80955165678805, 463.19384427599675, 70.32799947791973, 37.863943238069076, 62.622044183850434, 73.3318905649761, 173.71760572207106, 47.08965986093962, 58.753719968593884, 371.9931955460424, 538.3834614827522, 101.42114908400193, 30.139300080715408, 938.5344989702726, 684.2678253960736, 548.6707476425083, 207.25467877569127, 168.3613760851388, 154.31617546417021, 766.2809551883115, 225.1754341744316, 774.2289071185747, 104.2306302591439, 103.35242431269623, 12674.899697169045, 10311.589403522441, 6175.81328322872, 658.4242713363002, 651.0787148102584, 761.5778017191082, 3726.5351564146677, 2928.407435884116, 4006.482435771034, 746.8789903232006, 547.5587646457203, 326.8245531379553, 9211.7860420354, 2481.499331046173, 2076.0110959383965, 2464.5704591344956, 9770.621650786576, 1811.214371070383, 2142.230966454427, 11354.55418181443, 7306.163673009063, 2284.3428211297028, 1925.4398306150556, 4341.896282378722, 2839.971214306681, 2333.0617900193615, 4169.266909728135, 2340.637601870748, 11584.365141646, 4475.82992979839, 4359.033651102297, 4672.295941042433, 4432.595175511737, 4137.432974958934, 4135.972855746998, 3722.2831045092576, 4248.219840928924, 4138.915761516574, 3943.5356444374725, 28973.986352671083, 3705.921985454594, 3755.7606356848646, 4125.421847850552, 35708.78493466978, 28771.502802671344, 4083.6177024578424, 30218.137937714248, 22418.119520800155, 29796.29948953889, 37287.089120990815, 31583.591471019336, 328872.1806540578, 40521.71764217367, 57460.20564065879, 57457.290534464126, 75816.90306730276, 38233.30111410381, 24113.12204577641, 99665.81795304234, 45109.263371430134, 9321.772280247704, 28163.1505910732, 28516.80737411473, 85961.315236345, 24733.64106210249, 37554.52958543369, 34380.936955572986, 77122.48743606078, 49489.172792554054, 27204.744421343115, 50342.549602122905, 35403.47546158552, 32891.50587184139, 32090.180130980658, 40087.75686859025, 35744.72764661211, 41115.55419880605, 38123.65616913437, 45526.3083175178, 32362.810989903926, 31417.255922130567, 32690.85281692868, 29985.71296246869, 184.8408138355898, 176.43471774900914, 72.71543131365627, 72.9805108816306, 58.52322257658605, 42.61211238940723, 267.2575222377206, 59.27175666706324, 345.7722395524134, 79.31988440823707, 98.78443023932316, 108.93210777049461, 42.800498744799825, 104.31193835854792, 79.06528894184682, 172.31300212084724, 42.543625851704846, 142.17800265300409, 72.03698143277454, 117.81462763090578, 27.383689386826564, 55.98097431300695, 35.02048909089094, 68.02113885695583, 27.300987538646943, 401.39781621834754, 134.43419614495807, 34.07172503381376, 168.35029950147225, 33.64643172227572, 336.5369815236086, 161.60645697679124, 159.77092051677394, 98.17760269936252, 116.5944429354215, 152.1627573447931, 99.80902417075414, 89.62461010946978, 1003.495691663506, 30533.579189310673, 1613.4977759054045, 184.92407139573223, 5032.784115359514, 9775.846687484098, 213.906673104126, 1509.604566510834, 2571.6215704910537, 1607.56293091744, 18197.020033490022, 20129.069848035786, 7806.0776853003335, 4293.520173683651, 6172.08001263656, 3784.499129988929, 3034.4531060357795, 2249.1339797300734, 7175.361755194384, 4673.253717806696, 1853.886069029298, 5855.851326325285, 11605.989089640681, 8928.066489207624, 5861.349381710482, 1749.8947367795797, 24098.52357388469, 10836.253714520633, 10530.0341945338, 8912.857129110054, 7519.648497282783, 3650.7907035908283, 302730.39573726454, 64571.5707406117, 7422.063571315185, 9595.206004203994, 6873.026503052746, 6086.511167053381, 14072.304830927702, 7078.327460394508, 5048.040790361347, 5278.183025089795, 19320.402880549733, 71809.41230320874, 8322.957766347961, 8372.074447568348, 39670.433966588964, 23139.30248633476, 94457.16310711167, 54497.84783377555, 65021.23634833353, 38214.76331014185, 65088.643256773306, 25981.854914525135, 25095.444160991654, 14781.689251787195, 61486.41034694313, 32211.26280834456, 23648.949420474455, 102579.74892245316, 42868.3753092356, 18938.8681945678, 50403.09789044672, 32252.78814660327, 27744.095665820194, 36543.3646346325, 26840.748081859034, 21349.094498474784, 24635.26384783407, 25590.786116559535, 24342.65577788946, 32855.91408917963, 24589.69673708242, 25433.96737615148, 25164.49724704012], \"Total\": [417928.0, 950064.0, 200118.0, 413631.0, 334814.0, 118314.0, 83613.0, 247881.0, 156735.0, 332884.0, 115138.0, 219809.0, 198329.0, 66821.0, 125681.0, 151628.0, 238440.0, 106661.0, 34947.0, 24998.0, 54506.0, 113879.0, 66347.0, 114058.0, 109094.0, 64571.0, 90010.0, 29062.0, 125950.0, 97039.0, 431.3448423690567, 266.7463504736569, 88.12029963704569, 61.11549791000168, 44.87747058342783, 87.52401021772457, 64.92723326810211, 144.68508461631623, 144.30988648948986, 111.68142655548938, 45.58706306284333, 178.7645415382273, 51.53695450165223, 42.28803738354237, 53.13522748746799, 64.50892189179096, 110.0172837671017, 78.24612762315287, 87.20690864732228, 64.6907545815064, 43.51487902503644, 33.28946174350194, 42.29797194646507, 101.76014720724973, 58.66717156867749, 79.46323751096277, 98.37731723269687, 75.87881806746715, 64.48368870559867, 58.71610321021214, 439.8009609134329, 456.82511162380547, 671.0192449644751, 572.5472537622675, 339.0195402038662, 472.66896053909414, 498.4224954151418, 214.14210864469396, 141.60899721564795, 271.57320814855007, 129.29156796356517, 531.5226843773438, 338.4152562406157, 122.30296721961956, 120.96667075284644, 339.44224612920345, 134.17660889210427, 521.5020811760779, 4036.5849167621222, 1831.7174383914512, 497.13018967333596, 468.51179430211147, 691.3372647109552, 958.4203472810557, 2774.287808147444, 342.4266549864487, 342.0151879548928, 324.12449348806786, 338.4239713529789, 894.8039740626948, 96892.04179551076, 1808.2524536084165, 1748.5878794735834, 2388.19764892218, 844.6839457230666, 768.5247662278742, 935.6876548588607, 5217.219451701917, 1360.5774184340692, 911.7095402637941, 516.2828147117183, 12358.775803029986, 8276.304227954728, 20778.133763854614, 4306.9683165444885, 61755.81029251692, 289779.6825797333, 5909.119917888448, 7311.270609861971, 53823.88961096826, 9717.260510087615, 53778.514456379366, 78630.92624280989, 106842.6975548024, 12191.369729614238, 45193.24117485273, 30563.91279227324, 27233.793721785787, 8831.146283158592, 33398.45431348254, 7172.167204101208, 23653.498498149296, 6138.707081258538, 82514.89309657126, 30287.688674499765, 38641.65491336474, 14657.889996622936, 38958.59827153166, 31478.551362556005, 200139.57591799408, 63085.688813338216, 115135.58056884131, 83070.22252746626, 413631.7855060394, 90369.07618266417, 103572.2896994801, 71151.98087687453, 150459.69458005403, 147334.8956325423, 209607.75162550362, 93721.53153068056, 60973.84203016283, 238440.80460259953, 104912.140184728, 142051.13102860775, 950064.5229715585, 88727.24252031739, 102707.04306149644, 148090.41973208814, 99830.34858837427, 154165.08224002353, 334814.5303909778, 332884.4050514426, 247881.9726123429, 123407.34717759598, 130175.50056601758, 122730.64432123015, 138989.76109708793, 198329.29926981253, 219809.37139397085, 117314.38418604735, 200118.80973769457, 73.00985897456677, 47.84897138835899, 42.18003073857258, 260.6083163660322, 17.992239845311197, 31.980335067482407, 48.56190139539479, 19.18437246204258, 38.214008878736195, 19.1540733087974, 32.22543233529254, 61.674823345793364, 35.10806107772774, 38.193499726449794, 36.18180242302388, 30.095701525785092, 42.2171798741446, 23.317661493101642, 24.505638064593192, 32.321299515736264, 34.153546390458715, 42.268259596342155, 72.9310089743275, 48.7895425157728, 27.118129614492172, 38.21507763800743, 18.535508422721538, 56.26293524716207, 28.569977948225333, 23.998725649385328, 1813.1947883469518, 96.41362448422717, 97.11928435031663, 1236.5517041862765, 2028.8521073548227, 356.31794779344256, 973.3828520922788, 980.983961530557, 371.8339207431588, 356.8850231205589, 469.35509694825316, 574.2403010307696, 331.9961263114671, 481.8339682304145, 232.4654104406577, 245.58142298597082, 435.51686287552195, 566.7500001650731, 305.042244435587, 340.91772171859554, 222.4837018387337, 2849.3232065342454, 2152.444698111307, 2878.5695745295434, 416.840429828985, 582.8971053080278, 1307.1583230810006, 2882.0702686995573, 433.83512159613935, 2883.1585951074026, 2891.0590918459848, 1794.9018758740647, 841.4750294860312, 1430.829674939814, 2378.354888293593, 1393.103614788859, 1720.5176561990174, 1434.7136817975493, 836.6021653454218, 1435.3801884914167, 1432.0257520779128, 1728.2758602920144, 937.3825785888014, 1559.107617975354, 1355.4451557183893, 1108.475692154822, 1247.6908872537097, 1317.7940019595535, 1412.9568819967435, 1237.5764516764943, 24998.077095131765, 17073.761091807748, 1471.2033213743314, 2080.758398454957, 3152.76267545621, 4121.28017315159, 3717.921502451849, 2061.1335011260917, 950064.5229715585, 413631.7855060394, 334814.5303909778, 6406.219598369072, 3397.6987663057175, 417928.0981858986, 247881.9726123429, 238440.80460259953, 66347.76993793578, 332884.4050514426, 219809.37139397085, 198329.29926981253, 97039.02701881975, 156735.02311996746, 154165.08224002353, 54165.28839042619, 200118.80973769457, 209607.75162550362, 97950.58345707881, 289779.6825797333, 125681.20641890663, 108157.09592413194, 130175.50056601758, 117314.38418604735, 114058.57873445257, 151628.7966167094, 125950.87617719691, 118314.78109085369, 148090.41973208814, 90010.21538952157, 115138.64301877226, 150459.69458005403, 147334.8956325423, 200139.57591799408, 813.5715147726612, 58.805483585462696, 70.06511460458657, 560.2574029755833, 59.44372412226935, 102.72245491273853, 125.98207155390784, 1055.2638676628542, 51.17205460396613, 102.0761549258914, 87.25614479141734, 39.73920384343295, 39.41162015898113, 1089.6353174879903, 81.56236162166094, 40.33264364625872, 109.7162209080143, 205.4860857884651, 476.44492343000974, 72.37239787056758, 38.96732409425772, 64.46341623212939, 75.4998673607738, 178.88984773014928, 48.49446258246698, 60.5167811378288, 383.26382175044034, 554.8826405980374, 104.53324323944369, 31.08684190355682, 969.95145040392, 705.9721210024925, 567.5049071247171, 214.15465999468987, 173.90433440098465, 159.26296091896174, 805.0993147123795, 233.93021995253986, 815.7717649532792, 107.66919196150624, 106.76152597109154, 13831.557930841673, 11234.88559369385, 6700.498128637285, 693.3125786733249, 686.6117663321154, 807.7503327579241, 4090.953562566796, 3199.5703761287746, 4410.4681194901095, 794.7073618258617, 579.1466871286948, 342.15644608722437, 10405.83721006569, 2722.8858061074984, 2267.1900178929436, 2719.1290106838696, 11258.193474629863, 1981.2680410781525, 2368.0770818583583, 13284.092162518291, 8491.113108871712, 2534.550713616643, 2122.556445093787, 4975.167821752679, 3188.757052963558, 2597.3317090358833, 4789.366077373354, 2611.557147022253, 14140.402523466024, 5170.539065950223, 5027.652576058226, 5414.846392744907, 5160.879415510843, 4794.245300856622, 4797.201263353009, 4288.941344261403, 4952.889950250329, 4823.214388550458, 4576.433431193017, 40243.67907821523, 4289.502003301658, 4358.077088563032, 4832.455499003292, 54506.95451632337, 42898.53374497626, 4784.746158557893, 47112.59566310988, 33569.866755335344, 46967.76112139567, 64571.99330535, 54521.2561211858, 950064.5229715585, 80795.73559052646, 125681.20641890663, 151628.7966167094, 219809.37139397085, 90010.21538952157, 49572.96045448813, 332884.4050514426, 115108.80112567345, 14201.402706158364, 66347.76993793578, 69017.43140170629, 334814.5303909778, 59443.51640851052, 113879.1417913283, 99752.14675562913, 413631.7855060394, 198329.29926981253, 74537.82660538479, 238440.80460259953, 133917.17924211556, 117314.38418604735, 114058.57873445257, 209607.75162550362, 156735.02311996746, 247881.9726123429, 200139.57591799408, 417928.0981858986, 154165.08224002353, 138989.76109708793, 289779.6825797333, 142051.13102860775, 187.2650568327153, 179.3257030752095, 74.03968681212378, 74.40892949838268, 59.77758707827737, 43.57024600735686, 274.0081183133086, 60.81329814527863, 354.9186135657948, 81.49289354582571, 101.55861337011147, 112.01461555047887, 44.04737894403178, 107.37546760754991, 81.39237662446281, 177.58442400596547, 43.84680145996651, 146.59759927066003, 74.29764026458918, 121.54696030087744, 28.256254217558833, 57.76683092993605, 36.161479576785126, 70.25719913655361, 28.198879368076994, 414.6372985046057, 138.88183581493973, 35.21284156380312, 173.99722222767247, 34.7751296678296, 347.9608441721976, 167.17351128866346, 165.336280464555, 101.51060747425012, 120.81439915525179, 158.14829761159436, 103.36353392940663, 92.73264783409188, 1064.2869992147023, 34947.12081286492, 1740.1195662927546, 192.93865573855894, 5618.95520617937, 11063.436520897396, 223.9592709694457, 1645.2514280039943, 2834.9009754025533, 1755.2627092427933, 20894.10620305309, 23426.592955104075, 8896.695912207662, 4810.304549395254, 7022.800591660034, 4241.584568546449, 3380.8455275985893, 2486.815940135916, 8230.25282596138, 5289.81513599985, 2040.3610758600428, 6683.974076580974, 13532.295508103574, 10332.708032730628, 6702.866013463727, 1928.4886947617265, 29062.306112849932, 12683.869849278175, 12312.087125666943, 10364.042681685298, 8759.446592309103, 4128.459012966015, 417928.0981858986, 83613.6716686215, 8680.337795981908, 11378.519193622586, 8023.304363214751, 7072.880556929369, 17146.390928978108, 8355.114316132696, 5832.599570353908, 6172.042271814749, 26053.59759546526, 118314.78109085369, 10400.379174179641, 10491.838743086439, 66821.54185339165, 35639.59004983352, 200118.80973769457, 115138.64301877226, 156735.02311996746, 106661.74413849319, 247881.9726123429, 67253.08291556664, 65589.9682178011, 27486.021298322536, 332884.4050514426, 109094.90343234665, 63811.43475755295, 950064.5229715585, 198329.29926981253, 46300.257804386834, 334814.5303909778, 151628.7966167094, 114279.26103487019, 219809.37139397085, 125950.87617719691, 75551.19010688181, 113879.1417913283, 133917.17924211556, 114058.57873445257, 413631.7855060394, 121811.24606401252, 238440.80460259953, 289779.6825797333], \"Category\": [\"Default\", \"Default\", \"Default\", \"Default\", \"Default\", \"Default\", \"Default\", \"Default\", \"Default\", \"Default\", \"Default\", \"Default\", \"Default\", \"Default\", \"Default\", \"Default\", \"Default\", \"Default\", \"Default\", \"Default\", \"Default\", \"Default\", \"Default\", \"Default\", \"Default\", \"Default\", \"Default\", \"Default\", \"Default\", \"Default\", \"Topic1\", \"Topic1\", \"Topic1\", \"Topic1\", \"Topic1\", \"Topic1\", \"Topic1\", \"Topic1\", \"Topic1\", \"Topic1\", \"Topic1\", \"Topic1\", \"Topic1\", \"Topic1\", \"Topic1\", \"Topic1\", \"Topic1\", \"Topic1\", \"Topic1\", \"Topic1\", \"Topic1\", \"Topic1\", \"Topic1\", \"Topic1\", \"Topic1\", \"Topic1\", \"Topic1\", \"Topic1\", \"Topic1\", \"Topic1\", \"Topic1\", \"Topic1\", \"Topic1\", \"Topic1\", \"Topic1\", \"Topic1\", \"Topic1\", \"Topic1\", \"Topic1\", \"Topic1\", \"Topic1\", \"Topic1\", \"Topic1\", \"Topic1\", \"Topic1\", \"Topic1\", \"Topic1\", \"Topic1\", \"Topic1\", \"Topic1\", \"Topic1\", \"Topic1\", \"Topic1\", \"Topic1\", \"Topic1\", \"Topic1\", \"Topic1\", \"Topic1\", \"Topic1\", \"Topic1\", \"Topic1\", \"Topic1\", \"Topic1\", \"Topic1\", \"Topic1\", \"Topic1\", \"Topic1\", \"Topic1\", \"Topic1\", \"Topic1\", \"Topic1\", \"Topic1\", \"Topic1\", \"Topic1\", \"Topic1\", \"Topic1\", \"Topic1\", \"Topic1\", \"Topic1\", \"Topic1\", \"Topic1\", \"Topic1\", \"Topic1\", \"Topic1\", \"Topic1\", \"Topic1\", \"Topic1\", \"Topic1\", \"Topic1\", \"Topic1\", \"Topic1\", \"Topic1\", \"Topic1\", \"Topic1\", \"Topic1\", \"Topic1\", \"Topic1\", \"Topic1\", \"Topic1\", \"Topic1\", \"Topic1\", \"Topic1\", \"Topic1\", \"Topic1\", \"Topic1\", \"Topic1\", \"Topic1\", \"Topic1\", \"Topic1\", \"Topic1\", \"Topic1\", \"Topic1\", \"Topic1\", \"Topic1\", \"Topic1\", \"Topic1\", \"Topic1\", \"Topic1\", \"Topic1\", \"Topic1\", \"Topic1\", \"Topic1\", \"Topic1\", \"Topic1\", \"Topic1\", \"Topic1\", \"Topic1\", \"Topic1\", \"Topic1\", \"Topic1\", \"Topic1\", \"Topic1\", \"Topic2\", \"Topic2\", \"Topic2\", \"Topic2\", \"Topic2\", \"Topic2\", \"Topic2\", \"Topic2\", \"Topic2\", \"Topic2\", \"Topic2\", \"Topic2\", \"Topic2\", \"Topic2\", \"Topic2\", \"Topic2\", \"Topic2\", \"Topic2\", \"Topic2\", \"Topic2\", \"Topic2\", \"Topic2\", \"Topic2\", \"Topic2\", \"Topic2\", \"Topic2\", \"Topic2\", \"Topic2\", \"Topic2\", \"Topic2\", \"Topic2\", \"Topic2\", \"Topic2\", \"Topic2\", \"Topic2\", \"Topic2\", \"Topic2\", \"Topic2\", \"Topic2\", \"Topic2\", \"Topic2\", \"Topic2\", \"Topic2\", \"Topic2\", \"Topic2\", \"Topic2\", \"Topic2\", \"Topic2\", \"Topic2\", \"Topic2\", \"Topic2\", \"Topic2\", \"Topic2\", \"Topic2\", \"Topic2\", \"Topic2\", \"Topic2\", \"Topic2\", \"Topic2\", \"Topic2\", \"Topic2\", \"Topic2\", \"Topic2\", \"Topic2\", \"Topic2\", \"Topic2\", \"Topic2\", \"Topic2\", \"Topic2\", \"Topic2\", \"Topic2\", \"Topic2\", \"Topic2\", \"Topic2\", \"Topic2\", \"Topic2\", \"Topic2\", \"Topic2\", \"Topic2\", \"Topic2\", \"Topic2\", \"Topic2\", \"Topic2\", \"Topic2\", \"Topic2\", \"Topic2\", \"Topic2\", \"Topic2\", \"Topic2\", \"Topic2\", \"Topic2\", \"Topic2\", \"Topic2\", \"Topic2\", \"Topic2\", \"Topic2\", \"Topic2\", \"Topic2\", \"Topic2\", \"Topic2\", \"Topic2\", \"Topic2\", \"Topic2\", \"Topic2\", \"Topic2\", \"Topic2\", \"Topic2\", \"Topic2\", \"Topic2\", \"Topic2\", \"Topic2\", \"Topic2\", \"Topic2\", \"Topic2\", \"Topic2\", \"Topic2\", \"Topic2\", \"Topic2\", \"Topic2\", \"Topic2\", \"Topic2\", \"Topic2\", \"Topic3\", \"Topic3\", \"Topic3\", \"Topic3\", \"Topic3\", \"Topic3\", \"Topic3\", \"Topic3\", \"Topic3\", \"Topic3\", \"Topic3\", \"Topic3\", \"Topic3\", \"Topic3\", \"Topic3\", \"Topic3\", \"Topic3\", \"Topic3\", \"Topic3\", \"Topic3\", \"Topic3\", \"Topic3\", \"Topic3\", \"Topic3\", \"Topic3\", \"Topic3\", \"Topic3\", \"Topic3\", \"Topic3\", \"Topic3\", \"Topic3\", \"Topic3\", \"Topic3\", \"Topic3\", \"Topic3\", \"Topic3\", \"Topic3\", \"Topic3\", \"Topic3\", \"Topic3\", \"Topic3\", \"Topic3\", \"Topic3\", \"Topic3\", \"Topic3\", \"Topic3\", \"Topic3\", \"Topic3\", \"Topic3\", \"Topic3\", \"Topic3\", \"Topic3\", \"Topic3\", \"Topic3\", \"Topic3\", \"Topic3\", \"Topic3\", \"Topic3\", \"Topic3\", \"Topic3\", \"Topic3\", \"Topic3\", \"Topic3\", \"Topic3\", \"Topic3\", \"Topic3\", \"Topic3\", \"Topic3\", \"Topic3\", \"Topic3\", \"Topic3\", \"Topic3\", \"Topic3\", \"Topic3\", \"Topic3\", \"Topic3\", \"Topic3\", \"Topic3\", \"Topic3\", \"Topic3\", \"Topic3\", \"Topic3\", \"Topic3\", \"Topic3\", \"Topic3\", \"Topic3\", \"Topic3\", \"Topic3\", \"Topic3\", \"Topic3\", \"Topic3\", \"Topic3\", \"Topic3\", \"Topic3\", \"Topic3\", \"Topic3\", \"Topic3\", \"Topic3\", \"Topic3\", \"Topic3\", \"Topic3\", \"Topic3\", \"Topic3\", \"Topic3\", \"Topic3\", \"Topic3\", \"Topic3\", \"Topic3\", \"Topic3\", \"Topic3\", \"Topic3\", \"Topic3\", \"Topic3\", \"Topic3\", \"Topic3\", \"Topic3\", \"Topic3\", \"Topic3\", \"Topic3\", \"Topic3\", \"Topic3\", \"Topic3\", \"Topic3\", \"Topic3\", \"Topic4\", \"Topic4\", \"Topic4\", \"Topic4\", \"Topic4\", \"Topic4\", \"Topic4\", \"Topic4\", \"Topic4\", \"Topic4\", \"Topic4\", \"Topic4\", \"Topic4\", \"Topic4\", \"Topic4\", \"Topic4\", \"Topic4\", \"Topic4\", \"Topic4\", \"Topic4\", \"Topic4\", \"Topic4\", \"Topic4\", \"Topic4\", \"Topic4\", \"Topic4\", \"Topic4\", \"Topic4\", \"Topic4\", \"Topic4\", \"Topic4\", \"Topic4\", \"Topic4\", \"Topic4\", \"Topic4\", \"Topic4\", \"Topic4\", \"Topic4\", \"Topic4\", \"Topic4\", \"Topic4\", \"Topic4\", \"Topic4\", \"Topic4\", \"Topic4\", \"Topic4\", \"Topic4\", \"Topic4\", \"Topic4\", \"Topic4\", \"Topic4\", \"Topic4\", \"Topic4\", \"Topic4\", \"Topic4\", \"Topic4\", \"Topic4\", \"Topic4\", \"Topic4\", \"Topic4\", \"Topic4\", \"Topic4\", \"Topic4\", \"Topic4\", \"Topic4\", \"Topic4\", \"Topic4\", \"Topic4\", \"Topic4\", \"Topic4\", \"Topic4\", \"Topic4\", \"Topic4\", \"Topic4\", \"Topic4\", \"Topic4\", \"Topic4\", \"Topic4\", \"Topic4\", \"Topic4\", \"Topic4\", \"Topic4\", \"Topic4\", \"Topic4\", \"Topic4\", \"Topic4\", \"Topic4\", \"Topic4\", \"Topic4\", \"Topic4\", \"Topic4\", \"Topic4\", \"Topic4\", \"Topic4\", \"Topic4\", \"Topic4\", \"Topic4\", \"Topic4\", \"Topic4\", \"Topic4\", \"Topic4\", \"Topic4\", \"Topic4\", \"Topic4\", \"Topic4\", \"Topic4\", \"Topic4\", \"Topic4\", \"Topic4\", \"Topic4\", \"Topic4\", \"Topic4\", \"Topic4\"], \"logprob\": [30.0, 29.0, 28.0, 27.0, 26.0, 25.0, 24.0, 23.0, 22.0, 21.0, 20.0, 19.0, 18.0, 17.0, 16.0, 15.0, 14.0, 13.0, 12.0, 11.0, 10.0, 9.0, 8.0, 7.0, 6.0, 5.0, 4.0, 3.0, 2.0, 1.0, -11.2843, -11.7704, -12.8786, -13.2451, -13.5551, -12.8878, -13.1867, -12.3855, -12.3884, -12.6448, -13.5409, -12.1746, -13.4185, -13.6167, -13.3886, -13.1947, -12.6611, -13.0021, -12.8938, -13.1927, -13.5892, -13.8571, -13.6179, -12.74, -13.2915, -12.9883, -12.7748, -13.0346, -13.1974, -13.2911, -11.2785, -11.245, -10.8648, -11.0236, -11.5436, -11.2147, -11.1633, -12.0007, -12.411, -11.7666, -12.5022, -11.1033, -11.5502, -12.558, -12.5692, -11.548, -12.4675, -11.1244, -9.1195, -9.8951, -11.1733, -11.2315, -10.8503, -10.5305, -9.4896, -11.5402, -11.5415, -11.5951, -11.5532, -10.6008, -6.0272, -9.9117, -9.9465, -9.6447, -10.6592, -10.751, -10.5616, -8.8958, -10.2001, -10.5885, -11.1402, -8.0605, -8.451, -7.5696, -9.0856, -6.5293, -5.0458, -8.7851, -8.5819, -6.6676, -8.3111, -6.6719, -6.3228, -6.0353, -8.0976, -6.8582, -7.2302, -7.3405, -8.4107, -7.1498, -8.6114, -7.4785, -8.7604, -6.2941, -7.2451, -7.0185, -7.937, -7.0193, -7.2206, -5.4921, -6.572, -6.0126, -6.3206, -4.8322, -6.246, -6.1244, -6.4746, -5.7863, -5.8189, -5.5035, -6.2361, -6.642, -5.4501, -6.1689, -5.9061, -4.3086, -6.3256, -6.2073, -5.9106, -6.2408, -5.8907, -5.2982, -5.3988, -5.6193, -6.1176, -6.0857, -6.1434, -6.0862, -5.904, -5.9, -6.2377, -6.2243, -11.0743, -11.5043, -11.6328, -9.8136, -12.4879, -11.9131, -11.4964, -12.4264, -11.7374, -12.4285, -11.9084, -11.2598, -11.8237, -11.7397, -11.7939, -11.9788, -11.6419, -12.2356, -12.1861, -11.9102, -11.8558, -11.6449, -11.0995, -11.5023, -12.0899, -11.7471, -12.4707, -11.3609, -12.0393, -12.2143, -7.9124, -10.8315, -10.8267, -8.3173, -7.8405, -9.5523, -8.5685, -8.5613, -9.5169, -9.5573, -9.2914, -9.0969, -9.6314, -9.2715, -9.9796, -9.9271, -9.3715, -9.1175, -9.7192, -9.6118, -10.0273, -7.5541, -7.8403, -7.5631, -9.4199, -9.0997, -8.325, -7.5671, -9.3849, -7.5679, -7.572, -8.0303, -8.7509, -8.247, -7.7668, -8.2767, -8.0793, -8.2525, -8.76, -8.2547, -8.2573, -8.0855, -8.6549, -8.1839, -8.3127, -8.5025, -8.3985, -8.3491, -8.2905, -8.4152, -5.81, -6.1597, -8.2681, -8.0049, -7.6853, -7.5261, -7.6478, -8.0595, -4.3064, -4.9339, -5.074, -7.4122, -7.7831, -5.1442, -5.5119, -5.6115, -6.3137, -5.5314, -5.7608, -5.8408, -6.1875, -5.9916, -6.0332, -6.5194, -5.9419, -5.939, -6.2829, -5.8482, -6.192, -6.2569, -6.197, -6.2528, -6.266, -6.1886, -6.2644, -6.2996, -6.2478, -6.4362, -6.3621, -6.3054, -6.32, -6.2793, -9.811, -12.4475, -12.2755, -10.1974, -12.4409, -11.8942, -11.6915, -9.5662, -12.5931, -11.9029, -12.0599, -12.8469, -12.8553, -9.5361, -12.1287, -12.8332, -11.8328, -11.2057, -10.3649, -12.2499, -12.869, -12.3659, -12.208, -11.3456, -12.651, -12.4297, -10.5842, -10.2145, -11.8837, -13.0972, -9.6587, -9.9747, -10.1955, -11.1691, -11.3769, -11.464, -9.8615, -11.0861, -9.8512, -11.8564, -11.8649, -7.0557, -7.262, -7.7746, -10.0132, -10.0244, -9.8676, -8.2798, -8.5208, -8.2074, -9.8871, -10.1976, -10.7136, -7.3748, -8.6864, -8.8648, -8.6933, -7.3159, -9.0013, -8.8334, -7.1657, -7.6066, -8.7692, -8.9401, -8.127, -8.5515, -8.7481, -8.1675, -8.7449, -7.1456, -8.0966, -8.123, -8.0536, -8.1063, -8.1752, -8.1756, -8.2809, -8.1488, -8.1748, -8.2232, -6.2289, -8.2853, -8.272, -8.1781, -6.0199, -6.2359, -8.1883, -6.1868, -6.4854, -6.2009, -5.9766, -6.1426, -3.7996, -5.8934, -5.5442, -5.5442, -5.267, -5.9516, -6.4125, -4.9935, -5.7862, -7.3629, -6.2573, -6.2448, -5.1414, -6.3871, -5.9695, -6.0578, -5.2499, -5.6935, -6.2919, -5.6764, -6.0285, -6.1021, -6.1267, -5.9042, -6.0189, -5.8789, -5.9544, -5.777, -6.1183, -6.1479, -6.1082, -6.1946, -10.9858, -11.0323, -11.9187, -11.9151, -12.1359, -12.4531, -10.6171, -12.1231, -10.3595, -11.8318, -11.6123, -11.5146, -12.4487, -11.5579, -11.835, -11.056, -12.4547, -11.2482, -11.9281, -11.4362, -12.8953, -12.1803, -12.6493, -11.9855, -12.8984, -10.2103, -11.3042, -12.6768, -11.0792, -12.6894, -10.3866, -11.1201, -11.1315, -11.6185, -11.4466, -11.1803, -11.602, -11.7096, -9.294, -5.8787, -8.8191, -10.9853, -7.6815, -7.0176, -10.8397, -8.8857, -8.353, -8.8228, -6.3963, -6.2954, -7.2426, -7.8404, -7.4775, -7.9666, -8.1875, -8.487, -7.3269, -7.7557, -8.6802, -7.5301, -6.846, -7.1083, -7.5291, -8.738, -6.1154, -6.9146, -6.9433, -7.11, -7.28, -8.0026, -3.5847, -5.1297, -7.2931, -7.0363, -7.3699, -7.4914, -6.6533, -7.3405, -7.6785, -7.6339, -6.3364, -5.0235, -7.1785, -7.1726, -5.6169, -6.156, -4.7494, -5.2994, -5.1228, -5.6543, -5.1218, -6.0401, -6.0748, -6.6041, -5.1787, -5.8252, -6.1342, -4.6669, -5.5394, -6.3563, -5.3775, -5.8239, -5.9745, -5.699, -6.0076, -6.2365, -6.0933, -6.0553, -6.1053, -5.8054, -6.0952, -6.0614, -6.0721], \"loglift\": [30.0, 29.0, 28.0, 27.0, 26.0, 25.0, 24.0, 23.0, 22.0, 21.0, 20.0, 19.0, 18.0, 17.0, 16.0, 15.0, 14.0, 13.0, 12.0, 11.0, 10.0, 9.0, 8.0, 7.0, 6.0, 5.0, 4.0, 3.0, 2.0, 1.0, 0.6255, 0.62, 0.6194, 0.6188, 0.6177, 0.617, 0.6168, 0.6167, 0.6164, 0.6163, 0.6162, 0.6161, 0.616, 0.6155, 0.6153, 0.6152, 0.615, 0.6148, 0.6147, 0.6144, 0.6144, 0.6144, 0.6141, 0.6141, 0.6133, 0.6131, 0.6131, 0.6129, 0.6129, 0.6129, 0.6119, 0.6074, 0.6031, 0.603, 0.6071, 0.6036, 0.602, 0.6093, 0.6126, 0.6059, 0.6124, 0.5977, 0.6022, 0.6122, 0.612, 0.6014, 0.6101, 0.5956, 0.554, 0.5686, 0.5946, 0.5956, 0.5878, 0.5809, 0.559, 0.6005, 0.6004, 0.6005, 0.5992, 0.5793, 0.4682, 0.5649, 0.5637, 0.5537, 0.5785, 0.5813, 0.5738, 0.5212, 0.5609, 0.5729, 0.5899, 0.4941, 0.5045, 0.4654, 0.5232, 0.4165, 0.354, 0.5074, 0.4976, 0.4156, 0.484, 0.4122, 0.3814, 0.3623, 0.4707, 0.3999, 0.4189, 0.424, 0.48, 0.4107, 0.4874, 0.4269, 0.494, 0.3619, 0.4131, 0.3961, 0.447, 0.3872, 0.3991, 0.2778, 0.3525, 0.3103, 0.3287, 0.2118, 0.319, 0.3043, 0.3295, 0.2689, 0.2574, 0.2202, 0.2925, 0.3165, 0.1447, 0.247, 0.2067, -0.0962, 0.2578, 0.2298, 0.1606, 0.2247, 0.1402, -0.0428, -0.1377, -0.0632, 0.1359, 0.1144, 0.1156, 0.0484, -0.125, -0.2238, 0.0664, -0.4542, 2.6119, 2.6044, 2.6019, 2.6001, 2.5988, 2.5985, 2.5975, 2.5962, 2.5961, 2.5957, 2.5955, 2.5951, 2.5946, 2.5943, 2.5942, 2.5935, 2.592, 2.592, 2.5917, 2.5908, 2.59, 2.5878, 2.5877, 2.5869, 2.5866, 2.5864, 2.5863, 2.5857, 2.5851, 2.5844, 2.5615, 2.5766, 2.5741, 2.5393, 2.521, 2.5486, 2.5275, 2.5269, 2.5413, 2.542, 2.5339, 2.5268, 2.5402, 2.5276, 2.5484, 2.546, 2.5287, 2.5193, 2.5371, 2.5333, 2.5445, 2.4678, 2.4621, 2.4485, 2.5241, 2.5091, 2.4761, 2.4434, 2.5191, 2.4421, 2.4353, 2.4537, 2.4906, 2.4637, 2.4357, 2.4608, 2.447, 2.4555, 2.4874, 2.4528, 2.4526, 2.4364, 2.4787, 2.441, 2.4521, 2.4635, 2.4491, 2.4439, 2.4327, 2.4406, 2.0402, 2.0717, 2.4148, 2.3313, 2.2354, 2.1267, 2.108, 2.2862, -0.0939, 0.1101, 0.1814, 1.7995, 2.0628, -0.1105, 0.0441, -0.0167, 0.5603, -0.2702, -0.0846, -0.0617, 0.3063, 0.0228, -0.0022, 0.5576, -0.1719, -0.2153, 0.2016, -0.4484, 0.0432, 0.1285, 0.0031, 0.0513, 0.0663, -0.1411, -0.0313, -0.004, -0.1767, 0.1328, -0.0393, -0.2502, -0.2438, -0.5093, 1.4643, 1.455, 1.4518, 1.4509, 1.4508, 1.4505, 1.449, 1.4489, 1.4484, 1.4481, 1.4479, 1.4475, 1.4473, 1.447, 1.4466, 1.4464, 1.4461, 1.4457, 1.4455, 1.445, 1.445, 1.4447, 1.4446, 1.4444, 1.4443, 1.4441, 1.4438, 1.4435, 1.4435, 1.4427, 1.4408, 1.4425, 1.4399, 1.4409, 1.4413, 1.4421, 1.4243, 1.4355, 1.4214, 1.4412, 1.4412, 1.3864, 1.3879, 1.3922, 1.4221, 1.4206, 1.4148, 1.3804, 1.3851, 1.3776, 1.4116, 1.4176, 1.4278, 1.3518, 1.3809, 1.3856, 1.3754, 1.332, 1.384, 1.3735, 1.3167, 1.3234, 1.3698, 1.3762, 1.3375, 1.3579, 1.3664, 1.335, 1.3642, 1.2743, 1.3294, 1.331, 1.3262, 1.3216, 1.3264, 1.3254, 1.332, 1.3202, 1.3207, 1.3248, 1.1451, 1.3275, 1.325, 1.3155, 1.0508, 1.0742, 1.3152, 1.0296, 1.0699, 1.0186, 0.9246, 0.9277, 0.4128, 0.7836, 0.691, 0.5033, 0.4093, 0.6175, 0.753, 0.2677, 0.5369, 1.0527, 0.6168, 0.5898, 0.114, 0.5968, 0.3643, 0.4085, -0.2059, 0.0855, 0.4658, -0.0816, 0.1433, 0.202, 0.2055, -0.1805, -0.0045, -0.3229, -0.1845, -0.7433, -0.0873, -0.0134, -0.7083, -0.0818, 1.7584, 1.7552, 1.7534, 1.7521, 1.7502, 1.7492, 1.7465, 1.7458, 1.7453, 1.7444, 1.7437, 1.7435, 1.7427, 1.7425, 1.7424, 1.7413, 1.7413, 1.7408, 1.7405, 1.7403, 1.7401, 1.74, 1.7394, 1.7391, 1.7391, 1.739, 1.7389, 1.7385, 1.7385, 1.7385, 1.7381, 1.7376, 1.7372, 1.7381, 1.7359, 1.7329, 1.7365, 1.7374, 1.7126, 1.6364, 1.6959, 1.729, 1.6613, 1.6477, 1.7255, 1.6854, 1.674, 1.6835, 1.6332, 1.6197, 1.6407, 1.6578, 1.6423, 1.6574, 1.6634, 1.671, 1.6343, 1.6475, 1.6756, 1.6392, 1.6179, 1.6253, 1.6373, 1.6743, 1.5842, 1.614, 1.6151, 1.6206, 1.6188, 1.6485, 1.449, 1.513, 1.6148, 1.601, 1.6167, 1.6213, 1.5739, 1.6056, 1.627, 1.615, 1.4725, 1.2721, 1.5486, 1.5457, 1.25, 1.3395, 1.0207, 1.0235, 0.8916, 0.745, 0.4342, 0.8204, 0.8107, 1.1512, 0.0825, 0.5515, 0.7788, -0.4544, 0.2397, 0.8775, -0.1221, 0.2236, 0.3558, -0.0228, 0.2255, 0.5076, 0.2405, 0.1165, 0.227, -0.7614, 0.1713, -0.4666, -0.6722]}, \"token.table\": {\"Topic\": [4, 1, 2, 3, 4, 1, 2, 3, 4, 1, 2, 3, 4, 1, 2, 3, 4, 1, 2, 3, 4, 1, 2, 3, 4, 1, 2, 3, 4, 1, 2, 3, 4, 1, 3, 1, 2, 3, 4, 1, 2, 3, 1, 2, 3, 4, 1, 2, 3, 4, 1, 2, 3, 4, 1, 2, 3, 4, 1, 2, 3, 4, 1, 2, 3, 4, 1, 2, 3, 4, 1, 2, 3, 4, 1, 2, 3, 4, 1, 2, 3, 4, 1, 2, 3, 4, 1, 2, 3, 4, 1, 2, 3, 4, 1, 2, 3, 4, 1, 3, 4, 1, 2, 3, 4, 1, 2, 4, 1, 2, 3, 4, 1, 2, 3, 1, 2, 3, 4, 2, 3, 4, 1, 2, 3, 4, 1, 2, 3, 4, 2, 1, 2, 3, 4, 4, 1, 2, 3, 4, 1, 2, 3, 4, 1, 2, 3, 4, 1, 2, 3, 4, 1, 2, 3, 4, 1, 2, 3, 4, 1, 2, 3, 4, 1, 2, 3, 4, 1, 2, 3, 4, 1, 1, 2, 3, 4, 2, 4, 1, 2, 3, 4, 1, 2, 3, 4, 1, 2, 3, 4, 1, 2, 3, 4, 1, 2, 3, 4, 1, 2, 3, 4, 1, 2, 3, 4, 3, 1, 2, 3, 4, 1, 2, 3, 1, 2, 3, 4, 1, 1, 2, 3, 4, 1, 2, 3, 4, 1, 3, 1, 2, 3, 4, 1, 2, 3, 4, 1, 2, 3, 4, 1, 2, 3, 4, 1, 2, 3, 4, 1, 2, 3, 4, 1, 2, 3, 4, 1, 2, 3, 4, 1, 2, 3, 4, 1, 2, 3, 4, 1, 2, 3, 4, 1, 2, 3, 4, 1, 2, 3, 4, 1, 2, 3, 4, 1, 2, 3, 4, 1, 2, 3, 4, 1, 2, 3, 4, 1, 2, 3, 4, 1, 2, 3, 4, 1, 2, 3, 4, 1, 2, 3, 4, 2, 3, 4, 1, 2, 3, 4, 1, 2, 3, 4, 1, 2, 3, 4, 1, 2, 3, 4, 1, 2, 3, 4, 1, 2, 3, 4, 1, 2, 3, 4, 1, 2, 3, 4, 1, 2, 3, 4, 3, 1, 2, 3, 4, 1, 3, 4, 4, 2, 3, 4, 1, 2, 4, 1, 2, 3, 4, 1, 2, 3, 1, 2, 3, 4, 1, 2, 3, 4, 1, 2, 3, 4, 1, 2, 3, 4, 1, 2, 3, 4, 1, 2, 3, 4, 1, 2, 3, 4, 1, 2, 3, 4, 1, 2, 3, 4, 1, 2, 3, 4, 1, 2, 3, 4, 1, 2, 3, 4, 1, 2, 3, 4, 1, 2, 3, 4, 1, 2, 3, 4, 1, 2, 3, 4, 1, 2, 3, 4, 1, 2, 3, 4, 1, 2, 3, 4, 1, 2, 3, 4, 1, 2, 3, 4, 1, 2, 1, 2, 3, 4, 1, 2, 3, 4, 1, 2, 3, 4, 1, 2, 3, 4, 1, 3, 4, 1, 2, 3, 4, 1, 2, 3, 4, 1, 2, 3, 4, 1, 2, 3, 4, 1, 2, 3, 4, 1, 2, 3, 4, 1, 2, 3, 4, 1, 2, 3, 4, 1, 2, 3, 4, 1, 3, 4, 2, 3, 1, 2, 3, 4, 1, 2, 3, 4, 1, 3, 1, 2, 3, 4, 1, 2, 3, 4, 1, 2, 3, 4, 1, 2, 3, 4, 1, 3, 4, 1, 2, 3, 4, 1, 2, 3, 4, 3, 1, 2, 3, 4, 1, 2, 3, 4, 1, 4, 1, 2, 3, 4, 1, 2, 3, 4, 1, 2, 3, 4, 1, 2, 3, 4, 1, 2, 3, 4, 1, 2, 3, 4, 1, 2, 3, 1, 2, 3, 4, 1, 3, 1, 2, 3, 4, 1, 3, 4, 1, 2, 3, 4, 1, 2, 3, 4, 1, 2, 3, 4, 1, 2, 3, 4, 1, 2, 3, 4, 1, 2, 3, 4, 1, 2, 3, 4, 1, 2, 3, 4, 1, 2, 3, 4, 1, 2, 3, 4, 4, 4, 1, 2, 3, 4, 1, 2, 3, 4, 1, 2, 3, 4, 1, 2, 3, 4, 1, 2, 3, 4, 1, 2, 3, 4, 1, 2, 3, 4, 1, 2, 3, 4, 1, 2, 3, 4, 1, 2, 3, 4, 1, 2, 3, 4, 1, 2, 3, 4, 1, 2, 3, 4, 1, 2, 3, 4, 1, 2, 3, 4, 1, 2, 3, 4, 1, 2, 3, 4, 1, 2, 3, 4, 1, 2, 3, 4, 1, 2, 3, 4, 1, 2, 3, 4, 1, 2, 3, 4, 1, 2, 3, 4, 1, 2, 3, 4, 1, 2, 3, 4, 1, 2, 3, 4, 1, 2, 3, 4, 1, 2, 3, 4, 1, 2, 3, 4, 1, 2, 3, 4, 1, 2, 3, 4, 1, 2, 3, 4, 1, 2, 3, 4, 1, 2, 3, 4, 1, 2, 3, 4, 1, 2, 3, 4, 1, 2, 3, 4, 1, 2, 3, 4, 1, 3, 1, 2, 3, 4, 1, 2, 3, 4, 1, 2, 3, 4, 1, 3, 4, 4, 1, 2, 3, 4, 1, 2, 3, 4, 2, 1, 2, 3, 4, 1, 2, 3, 4, 1, 2, 3, 4, 1, 2, 3, 4, 1, 2, 3, 4, 1, 2, 3, 4, 1, 4, 1, 2, 3, 4, 1, 2, 3, 4, 1, 2, 3, 4, 1, 2, 3, 4, 1, 2, 3, 4, 1, 2, 3, 4, 1, 3, 1, 2, 3, 4, 1, 2, 3, 4, 1, 2, 3, 4, 1, 2, 3, 4, 1, 2, 3, 4, 1, 2, 3, 4, 1, 2, 3, 4, 1, 2, 3, 4, 1, 2, 3, 4, 1, 2, 3, 4, 1, 3, 1, 2, 3, 4, 1, 2, 3, 4, 1, 2, 3, 4, 1, 2, 3, 4, 1, 3, 4, 1, 2, 3, 4, 1, 2, 3, 4, 1, 2, 3, 4, 1, 3, 4, 1, 2, 3, 4, 1, 2, 3, 4, 1, 2, 3, 4, 1, 2, 3, 4, 1, 2, 3, 4, 1, 2, 3, 4, 1, 2, 3, 4, 1, 2, 3, 4, 1, 2, 3, 4, 1, 2, 3, 4, 1, 2, 3, 4, 1, 2, 3, 4, 1, 2, 3, 4, 1, 2, 3, 2, 1, 4, 1, 2, 3, 4, 1, 2, 3, 4, 1, 2, 3, 4, 1, 2, 3, 4, 1, 2, 3, 4, 1, 2, 3, 4, 1, 3, 1, 2, 3, 4, 1, 1, 2, 3, 4, 1, 2, 3, 4, 1, 2, 3, 4, 1, 2, 3, 4, 1, 2, 3, 4, 1, 2, 3, 4, 1, 2, 3, 4, 1, 2, 3, 4, 1, 2, 3, 4, 1, 2, 3, 4, 1, 2, 3, 4, 2, 3, 1, 2, 3, 4, 1, 2, 3, 4, 1, 2, 3, 4, 1, 2, 3, 4, 1, 1, 2, 3, 4, 1, 2, 3, 4, 1, 2, 3, 4, 1, 2, 3, 4, 1, 2, 3, 4, 1, 2, 3, 4, 1, 2, 3, 4, 1, 2, 3, 4, 1, 2, 3, 4, 1, 2, 3, 4, 1, 2, 4, 1, 1, 2, 3, 4, 1, 2, 3, 4, 1, 2, 3, 4, 1, 2, 3, 4, 1, 3, 4, 1, 2, 3, 4, 1, 2, 3, 4, 1, 2, 3, 4, 1, 2, 3, 4, 1, 3, 1, 2, 3, 4, 1, 2, 3, 4, 1, 2, 3, 4, 1, 2, 3, 4, 1, 2, 3, 4, 1, 2, 3, 4, 3, 4, 1, 2, 3, 4, 1, 3, 4, 1, 2, 3, 4, 1, 2, 3, 4, 1, 2, 3, 4, 1, 2, 3, 4, 1, 3, 4, 1, 2, 3, 4, 1, 2, 3, 4, 1, 2, 3, 4, 1, 1, 2, 3, 4, 1, 2, 3, 4, 1, 2, 3, 4, 1, 2, 3, 4, 1, 2, 3, 4, 1, 2, 3, 4, 1, 2, 3, 4, 1, 2, 1, 2, 3, 4, 1, 2, 3, 4, 1, 2, 3, 4, 1, 2, 3, 4, 1, 2, 3, 4, 1, 2, 3, 4, 1, 2, 3, 4, 1, 2, 3, 4, 1, 2, 3, 4, 1, 2, 3, 4, 1, 2, 3, 4, 1, 2, 3, 4, 1, 2, 3, 4, 1, 2, 3, 4, 1, 2, 3, 4, 1, 2, 3, 4, 1, 2, 3, 1, 2, 3, 4, 1, 2, 3, 4, 1, 2, 3, 4, 1, 2, 3, 4, 1, 2, 3, 4, 1, 2, 3, 4, 1, 2, 3, 4, 1, 2, 3, 4, 1, 2, 3, 4, 1, 2, 3, 4, 1, 2, 3, 4, 1, 2, 3, 4, 1, 2, 3, 4, 1, 2, 3, 4, 1, 2, 3, 4, 1, 2, 3, 4, 1, 2, 3, 4, 1, 2, 3, 4, 1, 2, 3, 4, 1, 2, 3, 4, 1, 3, 1, 2, 3, 4, 1, 3, 1, 1, 3, 1, 2, 3, 4, 1, 2, 3, 4, 1, 2, 3, 4, 1, 2, 3, 4, 1, 2, 3, 4, 1, 2, 3, 4, 1, 2, 3, 4, 1, 2, 3, 4, 1, 2, 3, 4, 1, 2, 3, 4, 1, 2, 3, 4, 1, 2, 3, 4, 1, 2, 3, 4, 1, 2, 3, 1, 2, 3, 4, 1, 3, 1, 2, 3, 4, 1, 2, 3, 4, 1, 2, 3, 4, 1, 2, 3, 4, 1, 1, 2, 4, 1, 2, 3, 4, 1, 2, 3, 4, 1, 2, 3, 4, 1, 2, 3, 4, 1, 2, 3, 4, 1, 2, 3, 4, 1, 2, 3, 4, 1, 2, 3, 4, 1, 3, 1, 2, 3, 4, 1, 2, 3, 4, 1, 2, 3, 4, 1, 2, 3, 4, 1, 2, 3, 4, 1, 2, 3, 4], \"Freq\": [0.9555406669303612, 0.23312887002940816, 0.6629106644373647, 0.06248488081060328, 0.04155085982837071, 0.06897127380868265, 0.8241718880370865, 0.06339783754131435, 0.04389081060552532, 0.9670510549459383, 0.014044309926600764, 0.01203797993708637, 0.006018989968543185, 0.037738418415742096, 0.010292295931566027, 0.043619730376636974, 0.9086626979582578, 0.009733019110884585, 0.004866509555442293, 0.9733019110884584, 0.014599528666326878, 0.009339044968947168, 0.009339044968947168, 0.966591154286032, 0.014008567453420754, 0.9323919326837032, 0.02709798618119897, 0.02212080504587671, 0.018802684288995203, 0.871667913837526, 0.020242719480300302, 0.0677036901537071, 0.040348663828976956, 0.9707728695130151, 0.017031102973912547, 0.03528186288408489, 0.8882727831993138, 0.03735726658314871, 0.03943267028221253, 0.027638202992443, 0.9396989017430619, 0.027638202992443, 0.481328361330349, 0.06454193217131177, 0.346157541986067, 0.10797161405328139, 0.9721135667241242, 0.014728993435214003, 0.011046745076410503, 0.0036822483588035007, 0.9825875183971411, 0.011425436260431873, 0.011425436260431873, 0.011425436260431873, 0.01551267460599749, 0.01551267460599749, 0.9772985001778419, 0.01551267460599749, 0.6222549721089959, 0.05941640259996804, 0.1990540647621159, 0.11927847886417041, 0.16584571952115015, 0.0706167050555096, 0.15660765146302064, 0.6069317741868449, 0.9689656783843734, 0.006346936757976245, 0.010578227929960408, 0.014809519101944573, 0.9719255546652896, 0.01094510759758209, 0.008756086078065673, 0.006567064558549255, 0.31087997170705595, 0.06925632108929769, 0.26158394675950924, 0.35828215925646556, 0.045580991286749785, 0.8852308307795089, 0.03838399266252613, 0.031186994038302482, 0.8684239090468306, 0.027204425588223734, 0.06239098802568677, 0.041865493270499994, 0.034742231148146896, 0.04355742412603491, 0.01451914137534497, 0.9074463359590607, 0.8686135399727951, 0.047739356179222085, 0.04377456219145619, 0.03989068236670591, 0.7904500556131314, 0.03633286653743419, 0.08105194282985473, 0.09213767129225091, 0.9746934195747341, 0.011466981406761577, 0.011466981406761577, 0.011180064298656839, 0.011180064298656839, 0.9726655939831449, 0.011180064298656839, 0.030939350056551105, 0.9591198517530842, 0.030939350056551105, 0.053264647093557875, 0.018342792376589468, 0.02116476043452631, 0.9072627306266944, 0.03500177710365074, 0.94504798179857, 0.03500177710365074, 0.8598102306021913, 0.03941440075650979, 0.04970536701147318, 0.05104319262461842, 0.9448517886687813, 0.013506269989195213, 0.9859577092112506, 0.48154488353595676, 0.06870932749864256, 0.23663987821782315, 0.21310689385152126, 0.01345937766581542, 0.01345937766581542, 0.01345937766581542, 0.9690751919387102, 0.9382636849661915, 0.07503726917397915, 0.8205464342080498, 0.058362320468650454, 0.046550898469042624, 0.9869120314982713, 0.06335149751628602, 0.8534522495590231, 0.06335149751628602, 0.019124980382275027, 0.03922832030771624, 0.8994493441983509, 0.022416183032980708, 0.03642629742859365, 0.4676666551108905, 0.06665681797229141, 0.2495294451309175, 0.21614557283178426, 0.05050150598616047, 0.8863885016191613, 0.02786289985443336, 0.0348286248180417, 0.04266071949665442, 0.014342828106633813, 0.9065402893039064, 0.036776482324702084, 0.020593232470554952, 0.9266954611749729, 0.041186464941109904, 0.010296616235277476, 0.05042014206981429, 0.058235740651524634, 0.09340593426922117, 0.7979535527570609, 0.008927406437862162, 0.008927406437862162, 0.017854812875724324, 0.9730873017269756, 0.7272462833827036, 0.0498082439761241, 0.14015846329270876, 0.0827896001289017, 0.9695413298124911, 0.9693523047277537, 0.012226065104674371, 0.012226065104674371, 0.006986322916956783, 0.9369451603696318, 0.029279536261550995, 0.8463749806519155, 0.048827539520580096, 0.054411073420523835, 0.05037565428026875, 0.9447320551557256, 0.01420649707001091, 0.02841299414002182, 0.013022622314176668, 0.8941324191327428, 0.018806732264282568, 0.05177655919672854, 0.035291645730505555, 0.8440122774889027, 0.03152352407796267, 0.07493454502196623, 0.04952321568889097, 0.026182465790310364, 0.9425687684511731, 0.026182465790310364, 0.026182465790310364, 0.03176003527967759, 0.8804587558088398, 0.044111160110663315, 0.044111160110663315, 0.0638852290126587, 0.020284726000369735, 0.8678132203836338, 0.04803050064455362, 0.9813986247347753, 0.06554277937410131, 0.019129710726412345, 0.8906291551313289, 0.024774543399779924, 0.014272437940671526, 0.014272437940671526, 0.9847982179063353, 0.030584969599606687, 0.0072821356189539735, 0.9481340575878073, 0.014564271237907947, 0.9913047034003654, 0.9656783312845273, 0.006170468570508162, 0.015426171426270403, 0.012340937141016323, 0.06766048234598966, 0.8326750027379795, 0.049617687053725754, 0.049617687053725754, 0.985718885259236, 0.015401857582175563, 0.7290879002328381, 0.051046222832638946, 0.14473977772619065, 0.07512525619136913, 0.04239912746985663, 0.014057464722626261, 0.9082936077232387, 0.035143661806565654, 0.4617789168472608, 0.05411187705598988, 0.29940122903804406, 0.18470676026561894, 0.9840742582284143, 0.012780185171797588, 0.012780185171797588, 0.9762215376001687, 0.06654980604023927, 0.855640363374505, 0.06536141664666358, 0.013072283329332714, 0.006424167689551006, 0.006424167689551006, 0.9737202740876597, 0.013766073620466442, 0.012271008630190218, 0.012271008630190218, 0.012271008630190218, 0.9694096817850273, 0.005685781711912965, 0.0075810422825506206, 0.9751115635930736, 0.010423933138507103, 0.6783866945682643, 0.04808785704987836, 0.20865078113416005, 0.06488286282230367, 0.009366670164219796, 0.009366670164219796, 0.9647670269146389, 0.018733340328439593, 0.008277159072032103, 0.008277159072032103, 0.016554318144064207, 0.968427611427756, 0.35441226929503367, 0.05864170881508188, 0.5015363707481528, 0.0854129237089236, 0.008621659736275876, 0.01724331947255175, 0.00574777315751725, 0.9684997770416567, 0.03132254904015721, 0.0322123941833435, 0.040932876586569085, 0.8957181211313139, 0.42367620365504766, 0.06515190826114528, 0.3449215996533239, 0.16624859881202653, 0.8924293952176305, 0.01935897098732403, 0.050409993759071486, 0.037951250054358, 0.03621991134331767, 0.8927142854617708, 0.031958745302927354, 0.03835049436351283, 0.05323207128232144, 0.882272292549587, 0.03302359977699571, 0.03154493113026456, 0.012824337106204769, 0.012824337106204769, 0.9618252829653576, 0.00854955807080318, 0.014233416821191171, 0.014233416821191171, 0.014233416821191171, 0.9678723438409996, 0.40884862245454395, 0.05833131144281703, 0.25024092900791894, 0.28257662082884066, 0.9613581789804405, 0.02089909084740088, 0.02089909084740088, 0.9733952202329035, 0.002949682485554253, 0.02064777739887977, 0.002949682485554253, 0.042901817541934055, 0.016151272486375174, 0.914061077275795, 0.02675054505555888, 0.0387552031751307, 0.013126762365770074, 0.915122862070828, 0.03281690591442519, 0.03507201934668597, 0.012387138747978449, 0.9217225169580109, 0.030893225552187216, 0.07152906178480786, 0.01700111033725868, 0.8581414108038253, 0.05307663715046612, 0.042783043964616206, 0.010066598579909696, 0.9399686423990679, 0.007549948934932272, 0.28394446741591955, 0.5628519661441804, 0.07455885045801683, 0.07871727809550244, 0.0458952825563682, 0.8949580098491798, 0.0229476412781841, 0.036060579151432154, 0.2114992011063487, 0.09469802257987078, 0.6678012803383275, 0.025975676530244518, 0.964182640721522, 0.880164909880271, 0.023353731506148317, 0.04061518522808403, 0.05584587968861554, 0.01652434219398533, 0.9749361894451345, 0.01652434219398533, 0.9678807507220814, 0.9483160467074055, 0.02370790116768514, 0.02370790116768514, 0.031269215844358045, 0.9380764753307412, 0.031269215844358045, 0.007208731553917255, 0.007208731553917255, 0.9695743940018708, 0.016219645996313824, 0.041668879198409135, 0.9583842215634101, 0.041668879198409135, 0.08163098452937897, 0.8097378592511703, 0.06814111844189685, 0.04081549226468949, 0.37010907347035393, 0.42864593662994177, 0.10286878085911566, 0.09834193010810754, 0.2631592331610955, 0.07592441953498921, 0.6343925979990293, 0.02652883531704895, 0.0089301951704998, 0.0133952927557497, 0.0178603903409996, 0.9555308832434786, 0.7367609355910139, 0.04548011116654307, 0.14030529968343616, 0.0774539223234916, 0.034533565406644054, 0.00690671308132881, 0.946219692142047, 0.01381342616265762, 0.023658414364582422, 0.9463365745832968, 0.023658414364582422, 0.023658414364582422, 0.9606864825355209, 0.007670151557169828, 0.01917537889292457, 0.0134227652250472, 0.03313291670662503, 0.9006129177528075, 0.03313291670662503, 0.03313291670662503, 0.3766277171833667, 0.07080351044810569, 0.1699497698029789, 0.3826042408904419, 0.4404974132266589, 0.05153770471834833, 0.41318547243551845, 0.09477315899992027, 0.027325821296791772, 0.007452496717306846, 0.9514354142428407, 0.012420827862178078, 0.06877255209880694, 0.021447711163017757, 0.8639697561972153, 0.04592607716428802, 0.009796607255886674, 0.009796607255886674, 0.9698641183327807, 0.009796607255886674, 0.30285738933902706, 0.5836594448185513, 0.06993154638378955, 0.04357273274682272, 0.020671115983031813, 0.006577173267328304, 0.02912748161245392, 0.9424149695900413, 0.1906717831645966, 0.6976743618083713, 0.055794542147401045, 0.055794542147401045, 0.02049619546395045, 0.9428249913417206, 0.02049619546395045, 0.02049619546395045, 0.9473922403420448, 0.004173534098423105, 0.03443165631199062, 0.013563985819875092, 0.6857983892158754, 0.05039038600772698, 0.17025210714218827, 0.09355638431002945, 0.9754753046075989, 0.008266739869555922, 0.008266739869555922, 0.008266739869555922, 0.03103139128112871, 0.9619731297149899, 0.07057897921084762, 0.020540012525757514, 0.861806482995613, 0.047198326654932156, 0.05602570871323187, 0.01775462600067207, 0.9011459063452224, 0.024856476400940897, 0.10067731546776583, 0.05847129904037861, 0.06860122137361663, 0.7722660506515294, 0.0365791598109558, 0.05246707770864368, 0.05327994792666492, 0.8576519773049557, 0.005340024545493848, 0.005340024545493848, 0.9879045409163618, 0.0640703547897282, 0.8245576094678063, 0.06462748830963888, 0.04624208215258643, 0.7874921523993883, 0.04334700477387366, 0.0842096439010059, 0.08493425054797214, 0.017773690540797735, 0.9420055986622801, 0.017773690540797735, 0.017773690540797735, 0.6934614634917102, 0.05521079929867964, 0.12163390369148142, 0.12969586343017148, 0.23324923149929241, 0.06816998875625359, 0.22525886461742808, 0.47332501557374285, 0.036630669958451045, 0.05612370940418996, 0.051981438521970444, 0.8552571056817949, 0.042546688493030775, 0.021881154082130115, 0.01823429506844176, 0.9177928517782353, 0.05222287240167921, 0.06717930363843698, 0.02393028997881243, 0.8566295990853012, 0.013696780325905758, 0.9724714031393088, 0.013696780325905758, 0.013696780325905758, 0.01644377184758293, 0.01644377184758293, 0.9701825390073929, 0.9385595241134078, 0.040806935831017736, 0.03664772314848154, 0.903977170995878, 0.012215907716160514, 0.04886363086464206, 0.7612874053304356, 0.04263276858639423, 0.11079840055449725, 0.08528425628083958, 0.024793812395998514, 0.966958683443942, 0.40388749035514593, 0.0809685874926639, 0.42476289868372924, 0.09037863052316422, 0.23934255441725072, 0.07682339713716403, 0.6564140312673172, 0.02746207597020529, 0.16957106474526634, 0.06418588797921165, 0.172564111515106, 0.5936708267976979, 0.022161529136318248, 0.0544607790477608, 0.03112044517014903, 0.8921194282109388, 0.01731097212538585, 0.01731097212538585, 0.9694144390216075, 0.038997601646124265, 0.04456868759557059, 0.03197318892725716, 0.8843493391925447, 0.05433797585789843, 0.0525426682855009, 0.045959873853376645, 0.8471457998286456, 0.9650385231498068, 0.07067337124629784, 0.01996293278710361, 0.8618479948087491, 0.04749801249345342, 0.5562136332186252, 0.05471626067971806, 0.2260382329749773, 0.16302639720469844, 0.013439247234725176, 0.9810650481349379, 0.005981808913932963, 0.011963617827865926, 0.011963617827865926, 0.9690530440571401, 0.02059227442224558, 0.9472446234232966, 0.02059227442224558, 0.02059227442224558, 0.08030581840663935, 0.8240075279985603, 0.04958011397279473, 0.04608855665076693, 0.007827506353974181, 0.005218337569316121, 0.9706107878927985, 0.015655012707948363, 0.8776864407019397, 0.01909064670028999, 0.07116703105361268, 0.032139949508083146, 0.7539110833952593, 0.06889042636689297, 0.11264044403201598, 0.06457883042308375, 0.02511569530617563, 0.006278923826543908, 0.9669542692877617, 0.37601411237912946, 0.06386002783799918, 0.18952715991969624, 0.37060755787505345, 0.9872867019102292, 0.011348123010462403, 0.48519540485934703, 0.05934264778406228, 0.2643648873158622, 0.1910957215857478, 0.013245056381642773, 0.9668891158599224, 0.013245056381642773, 0.28455669391685645, 0.07253643616907492, 0.2280600678039918, 0.41484665460017767, 0.04509417299796253, 0.048062397043398035, 0.048404884433255975, 0.8585017239105777, 0.9686756451141906, 0.013412432009273409, 0.010431891562768206, 0.007451351116263005, 0.49278701219799903, 0.06184979009278699, 0.24349147519937114, 0.20186970246637007, 0.9648694315982324, 0.0058476935248377715, 0.017543080574513314, 0.011695387049675543, 0.07275075212418043, 0.021262397468958177, 0.8621693718785395, 0.04377552420079625, 0.9399923573817551, 0.013162086684458648, 0.03071153559707018, 0.01535576779853509, 0.06854040149340544, 0.018290840281231364, 0.8727343791330394, 0.040601645459436654, 0.019293970968969974, 0.00723523911336374, 0.004823492742242494, 0.96711029481962, 0.013711588720128783, 0.9460996216888861, 0.013711588720128783, 0.027423177440257566, 0.9574848577339493, 0.9777102292577021, 0.050796972580715305, 0.04943100357014145, 0.04055220500141138, 0.8592371941825364, 0.6668481338615816, 0.05469926728039663, 0.11730451623250598, 0.1611379269296127, 0.07300419107413278, 0.016478088842447114, 0.8629095384962494, 0.047348432496651834, 0.026167682019974065, 0.9420365527190664, 0.026167682019974065, 0.026167682019974065, 0.007200365649922007, 0.014400731299844014, 0.007200365649922007, 0.964848997089549, 0.9662910369593531, 0.008838027777067254, 0.014730046295112091, 0.008838027777067254, 0.040988309263151695, 0.016960679695097253, 0.9069252336961726, 0.03486361937325547, 0.08380832479130587, 0.0190379404464201, 0.8536033080595968, 0.043663102545593926, 0.5663158909366002, 0.07463705376583638, 0.2803748255442999, 0.07867747901538027, 0.8056560090115527, 0.04583837185774794, 0.08493676898123743, 0.06353898511616453, 0.9759874007161021, 0.009339592351350259, 0.004669796175675129, 0.009339592351350259, 0.031539320085013575, 0.8984662721653868, 0.04771333038502054, 0.02264361442000975, 0.940484781893098, 0.011756059773663726, 0.033130713907597774, 0.014962257893753833, 0.030884712640859683, 0.918268688339846, 0.008272690885944558, 0.042466479881182066, 0.038715437203925285, 0.9076619166698038, 0.008603430489761173, 0.04301715244880587, 0.016214071573310906, 0.9566302228253435, 0.016214071573310906, 0.016214071573310906, 0.03466417637291319, 0.009904050392260912, 0.9433607998628518, 0.013618069289358754, 0.3172676341599871, 0.12416393207648332, 0.42447545752245686, 0.13409644375873658, 0.8010185346505546, 0.046949769435435, 0.07346219197879246, 0.07857978288068587, 0.9849444387724224, 0.008954040352476567, 0.008954040352476567, 0.008954040352476567, 0.9267243263116268, 0.012615850416533231, 0.0432543442852568, 0.01730173771410272, 0.04240452965176476, 0.04240452965176476, 0.043255050303805886, 0.8717836683421551, 0.9745143508773527, 0.007061698194763425, 0.007061698194763425, 0.007061698194763425, 0.6604908402784236, 0.057168687260237716, 0.19125246890498285, 0.09109395932128674, 0.023322996713954644, 0.03257177127293666, 0.03980994266692258, 0.9043693036152413, 0.10322589026021996, 0.0634798189333496, 0.10893261352279208, 0.7243590495926471, 0.028483486962895585, 0.9399550697755543, 0.028483486962895585, 0.028483486962895585, 0.03718428409516069, 0.0538677271492632, 0.04835370783477169, 0.8606111683925594, 0.03596840930135758, 0.043948900115096286, 0.04271248604536212, 0.8774043843949914, 0.05240712329872222, 0.044127276421389854, 0.03254506287043937, 0.8709154544902724, 0.049882851356364714, 0.05529738718488467, 0.03986019992910437, 0.8550358493462792, 0.040343210404938976, 0.06286411902456354, 0.04147735688218626, 0.8551464438444495, 0.03948823158822248, 0.04463887049103411, 0.04214939502134182, 0.8737200458802792, 0.06080040562296324, 0.055639080867193866, 0.05436595409410409, 0.8292184352619079, 0.041393113978399815, 0.055287306083037516, 0.043322862881821717, 0.8599925988099709, 0.03306416174986831, 0.04622998181316429, 0.04458425430525229, 0.8761254805756961, 0.07453463561478278, 0.042107986630573684, 0.06263708814575641, 0.820697490118328, 0.0450966469064291, 0.05369023871202486, 0.046909973617701606, 0.8543134018847304, 0.011460510917488549, 0.9741434279865266, 0.03058153973607602, 0.8868646523462046, 0.043833540288375626, 0.038736616999029624, 0.07089765408624889, 0.019903162027534987, 0.860429004574974, 0.048639088268473074, 0.07060949312419011, 0.021083397946941272, 0.8670050155728019, 0.04117229599072494, 0.9752392286105904, 0.013178908494737709, 0.013178908494737709, 0.9655568392114696, 0.9632702705808054, 0.007525548988912542, 0.013169710730596949, 0.015051097977825084, 0.03103235033156057, 0.023561599325814506, 0.018389540937221078, 0.9269477978668, 0.9397478912087416, 0.8627796625351346, 0.03165012659913955, 0.062184830234432775, 0.04350149559000679, 0.06865821831572592, 0.01934034318752843, 0.8656737610737725, 0.04641682365006823, 0.0744031110957195, 0.022571730332409286, 0.8535458025699956, 0.049532408229453706, 0.06187441640671101, 0.8459726243193418, 0.038404810183475795, 0.05440681442659071, 0.228073063246498, 0.07816117958559975, 0.6706989141177679, 0.023077711837084326, 0.6096970768883861, 0.07074234866634826, 0.2099243196303896, 0.10964220791374334, 0.9811699808109797, 0.016352833013516328, 0.6124706727248137, 0.06972799822459054, 0.21113416423797435, 0.10666798429232743, 0.4974585231046363, 0.07409574728826182, 0.16586926256352008, 0.2625806117082634, 0.9282823475444903, 0.025724372259744388, 0.03748408529277039, 0.008819784774769504, 0.17374157035719232, 0.0719367628981796, 0.7199639959281021, 0.03434079665812926, 0.016905284114910813, 0.002817547352485136, 0.005635094704970272, 0.974871383959857, 0.03881456750669028, 0.014555462815008854, 0.9156709334532843, 0.030875224153049084, 0.02452111439927764, 0.9685840187714667, 0.9595072073845213, 0.014080818557005555, 0.012069273048861904, 0.014080818557005555, 0.328646904494585, 0.06443028559757577, 0.4864143633733077, 0.12050924425795795, 0.008395513947768203, 0.008395513947768203, 0.9717807394541694, 0.012593270921652303, 0.9604880933047024, 0.008537671940486245, 0.01707534388097249, 0.012806507910729365, 0.9532250518500905, 0.01735766407010787, 0.018804136075950193, 0.008678832035053935, 0.012286162924249172, 0.012286162924249172, 0.012286162924249172, 0.9706068710156847, 0.009313114273503632, 0.009313114273503632, 0.009313114273503632, 0.9685638844443778, 0.07991285949072262, 0.021498680783344847, 0.81921288879693, 0.07934710473326619, 0.009287707855720872, 0.009287707855720872, 0.9659216169949706, 0.018575415711441744, 0.04272864660376361, 0.023358326810057443, 0.01823088921760581, 0.9161021831846918, 0.9769912556899083, 0.015507797709363624, 0.011262248990557952, 0.005631124495278976, 0.011262248990557952, 0.9685534131879838, 0.9745415109785601, 0.007734456436337779, 0.007734456436337779, 0.007734456436337779, 0.028847017370246794, 0.008654105211074039, 0.9490668714811196, 0.014423508685123397, 0.4150494703315989, 0.08084986034426331, 0.41609247726904053, 0.08799950467350008, 0.9871221565198434, 0.0228066806860024, 0.9806872694981033, 0.722730537240365, 0.044512738587666086, 0.1584566639596839, 0.0743037031448748, 0.45165964280384063, 0.05997803758256811, 0.39188141618077416, 0.09648263114020877, 0.09583991413796171, 0.793228225524832, 0.07612815874788448, 0.034665500858411684, 0.9814418699519948, 0.006911562464450668, 0.006911562464450668, 0.08427696134216679, 0.8189395760766414, 0.05637838103579433, 0.039522988767360975, 0.06675741776328334, 0.8305197027109551, 0.06316830928138638, 0.04019801499724588, 0.8564007160002539, 0.03850009829962797, 0.048238358457769165, 0.056844262783568356, 0.6395793510835107, 0.12382468919311568, 0.06930637889234476, 0.1672842565646073, 0.007674352176815953, 0.9554568460135862, 0.015348704353631906, 0.02302305653044786, 0.06492332030458273, 0.8233457438626628, 0.060496730283815726, 0.05164355024228171, 0.07336878708483525, 0.017143070105778698, 0.8679012331790863, 0.04156972440157736, 0.03367778714014259, 0.9064937705221715, 0.028064822616785494, 0.030871304878464043, 0.004916592982139661, 0.0024582964910698306, 0.9906934859011418, 0.0024582964910698306, 0.24745466188100285, 0.07432079146500167, 0.6551274111142297, 0.023097969996158256, 0.3855754382172873, 0.0683180420717961, 0.32977944344554017, 0.21632583116178625, 0.969223443539997, 0.008864848568963387, 0.01477474761493898, 0.011819798091951182, 0.05513951711307238, 0.021826058857257816, 0.8964000664007113, 0.027186845243250966, 0.02300115183315035, 0.005750287958287588, 0.9660483769923148, 0.9171585484626226, 0.011152890889050058, 0.9814543982364051, 0.8286322248835504, 0.0385457934348103, 0.07381689999374291, 0.05894436376579841, 0.4294722987391002, 0.0757593167991133, 0.2813466584982694, 0.2134254193774812, 0.9777150079593345, 0.011368779162317842, 0.009095023329854275, 0.004547511664927137, 0.05658599588103059, 0.01773590915674093, 0.9045313669937874, 0.020691894016197754, 0.03688037045302785, 0.8805188445660398, 0.048405486219599045, 0.03457534729971361, 0.7804952269604476, 0.04566386058350499, 0.10554794531724143, 0.06830327881546193, 0.01700521684421978, 0.9863025769647472, 0.7099862637030983, 0.061618711364202404, 0.08077119394407138, 0.1476288295125722, 0.9881677477549643, 0.007937637377014388, 0.007937637377014388, 0.9763293973727697, 0.007937637377014388, 0.935733844137649, 0.01364839329255614, 0.0382155012191572, 0.01255652182915165, 0.061966479935713706, 0.8430501344340309, 0.04896116933192194, 0.04590109624867682, 0.9310369922557815, 0.016584811287111586, 0.0245912719084758, 0.02745072213039159, 0.041065627006495284, 0.891710757855326, 0.038132367934602764, 0.0293325907189252, 0.9763251663733827, 0.00745286386544567, 0.00745286386544567, 0.01490572773089134, 0.009846530656692663, 0.009846530656692663, 0.009846530656692663, 0.9748065350125736, 0.07512555061928303, 0.8165160855186722, 0.06070751565194588, 0.04780716857590738, 0.05146705949782804, 0.8715088741632214, 0.04288921624819003, 0.034311372998552025, 0.3017538694162093, 0.08226149430657055, 0.5792969980331604, 0.036701282075239164, 0.1907709934511932, 0.07379433928175291, 0.08616821898641187, 0.649249892258738, 0.9434908387579319, 0.042885947216269635, 0.03593232248203849, 0.01395359806646565, 0.9163826709453478, 0.033763369414712224, 0.33648511146084603, 0.059704532600712665, 0.13180670040249395, 0.47200460628268465, 0.04286253444702541, 0.0521208418875829, 0.039433531691263374, 0.865480295554337, 0.05613242899758227, 0.03997016064827841, 0.039776600548286745, 0.8640522863627836, 0.9804474144371261, 0.26429653178948115, 0.5577304317829251, 0.08240871815262218, 0.09535865957660568, 0.9827029809256769, 0.009827029809256769, 0.009827029809256769, 0.009827029809256769, 0.4280034954057764, 0.05750956096579447, 0.2192311395631027, 0.29525668923640513, 0.064867437994039, 0.017490183281355702, 0.8852723537793886, 0.032385669042949844, 0.0705306151711297, 0.02053913518719711, 0.8589621347626867, 0.04999147998393259, 0.07694394175601678, 0.8098034525797175, 0.05886421773684344, 0.054659630755640336, 0.799078895972332, 0.03949284561553904, 0.09374685339063892, 0.06769774369729627, 0.22149440742707818, 0.06807096522602879, 0.17266958896992657, 0.5378006456286251, 0.07390520707050958, 0.8160800330039368, 0.06835364222014267, 0.04163673637775188, 0.9789413409066793, 0.005593950519466739, 0.005593950519466739, 0.005593950519466739, 0.010783688629155738, 0.021567377258311475, 0.9705319766240164, 0.9895811751616984, 0.7550667391589678, 0.04528267780260772, 0.11281329218450303, 0.08683838623874567, 0.07335075203848695, 0.8363389574531791, 0.041764303792248554, 0.048081593441496234, 0.08393572258240102, 0.8150782978043074, 0.04508943775087658, 0.05549469261646348, 0.08787077839944571, 0.8139271371452307, 0.04810444072962357, 0.05002861835880851, 0.9815859816841606, 0.012584435662617443, 0.012584435662617443, 0.04401102444945902, 0.04908348150465091, 0.03237421120519528, 0.8744020823670485, 0.07450195819136865, 0.01998833024646476, 0.857681079666488, 0.04764894887036044, 0.6854927311442198, 0.0555604968181885, 0.17172442340544675, 0.08722305700104328, 0.11457150933042552, 0.055692884434990764, 0.08816440768240785, 0.7415482613949149, 0.019541916144256093, 0.9770958072128045, 0.07301966804603344, 0.02077673028938683, 0.8547817841883605, 0.051414879665402924, 0.3467876892337308, 0.061571417885744655, 0.378931979162514, 0.21271025504165833, 0.9220342382439689, 0.018005209920295487, 0.02972953265909255, 0.030148258471192447, 0.5316887723089136, 0.05883832236146764, 0.16669691269868508, 0.2427737084468409, 0.033127807551607796, 0.04081819144751675, 0.028691047611660324, 0.8974086438533756, 0.03862180237041501, 0.012955414719189845, 0.9110345407249161, 0.03764403522179691, 0.01672867790214622, 0.9869919962266269, 0.7609777779935001, 0.03612681163521824, 0.11027100270675974, 0.0926257032297796, 0.9899272184519612, 0.004636661444739865, 0.004636661444739865, 0.031871659595241165, 0.008580831429488005, 0.9487947894891023, 0.011032497552198864, 0.5644567236053032, 0.08061422068983846, 0.27247403185337077, 0.08245413695515305, 0.08563601730649192, 0.8075264111298123, 0.05520338305707744, 0.05166470465598273, 0.4088259798790344, 0.06695929070246648, 0.364982469156602, 0.15923458652526037, 0.009734969835460882, 0.9734969835460882, 0.009734969835460882, 0.05070958621077829, 0.04508495273159318, 0.06090423439180131, 0.8432555973872058, 0.31057149364002395, 0.07402857010290737, 0.45718848217036295, 0.1582098116859641, 0.018969537107303393, 0.006323179035767798, 0.012646358071535597, 0.9611232134367054, 0.9817477080585295, 0.008227272796658996, 0.016454545593317993, 0.008227272796658996, 0.9708181900057616, 0.008498919180377686, 0.007082432650314738, 0.9688767865630562, 0.015581351830692425, 0.3275413831502032, 0.06281360993178364, 0.5774484895282093, 0.03219662106710508, 0.09419642383543304, 0.7295416907254457, 0.07353088187153702, 0.10236652182115938, 0.07128731098220374, 0.8330830852037927, 0.055911616456630384, 0.039837026725349146, 0.8002452361324931, 0.04929477927751741, 0.07437914640138425, 0.07607127198201574, 0.9454584741716007, 0.014528321707128616, 0.02346882737305392, 0.01564588491536928, 0.9766090976636989, 0.015501731708947602, 0.37913503581704416, 0.05824268316320347, 0.17628931620703098, 0.3863317319240113, 0.9666303577129506, 0.011681333627951065, 0.01460166703493883, 0.008761000220963298, 0.8484690588025753, 0.02944706033547221, 0.07456094107226807, 0.047492612630190556, 0.013817422517745266, 0.013817422517745266, 0.9672195762421686, 0.013817422517745266, 0.9568399061972254, 0.007747691548155671, 0.023243074644467013, 0.011621537322233507, 0.498144667720606, 0.05201893060719697, 0.3446642615544496, 0.10517066891503245, 0.03780850461841275, 0.047260630773015934, 0.031381058833282585, 0.8833957104092139, 0.6070546180057622, 0.05564498514110083, 0.21243467750969847, 0.12487100932348388, 0.9223143020081295, 0.019323264989694895, 0.04954683330690999, 0.008670695828709248, 0.7184450610863875, 0.04206723644559797, 0.14284708818283726, 0.09664747230214267, 0.07272277997701125, 0.8136871048538926, 0.06625853286794359, 0.04767382242937405, 0.557658750689682, 0.08673761503138858, 0.28404118707665876, 0.07155649055496734, 0.09026336800980475, 0.8106344780880542, 0.048024740671883295, 0.0514964086722604, 0.02616841387076874, 0.9420628993476746, 0.02616841387076874, 0.02616841387076874, 0.5077169136043587, 0.0849992978702781, 0.25674214288017766, 0.15054006151149468, 0.7898711638165132, 0.04739735265501278, 0.08589975977155132, 0.07684597591989002, 0.033227336440163395, 0.9635927567647384, 0.033227336440163395, 0.5146795215734579, 0.09631176534970241, 0.23537952411219268, 0.1536186053999587, 0.8097292733167546, 0.055445819096149984, 0.09209146641930077, 0.04270429642968373, 0.9758347015392412, 0.01016494480770043, 0.01016494480770043, 0.01016494480770043, 0.29214223479479856, 0.5947181208322685, 0.07400613090732024, 0.03906553139697888, 0.8037138491892519, 0.035089815674600254, 0.09782075518701437, 0.06337865184604771, 0.6515963606186232, 0.043934884254762614, 0.2110930042081897, 0.09337482851388741, 0.06730523842225343, 0.05086353017910295, 0.08163163917213309, 0.8002592848405933, 0.028763453748051202, 0.0627954609053989, 0.029617813760369552, 0.8788516660048119, 0.02910418634878339, 0.04885345565688641, 0.029519960439480297, 0.8926669727262563, 0.03552241649849701, 0.04618818023087016, 0.034708926044332955, 0.8836314088786431, 0.20821601518356964, 0.5453619471657262, 0.09688745221414134, 0.14953150139407942, 0.025914972719490895, 0.005182994543898179, 0.010365989087796358, 0.958853990621163, 0.03698441977133487, 0.8876260745120369, 0.03595707477768668, 0.03903910975863125, 0.019349183643101096, 0.009674591821550548, 0.009674591821550548, 0.9674591821550549, 0.03871868532815019, 0.012817219970697994, 0.9178553634572063, 0.030618914374445205, 0.03782751365076292, 0.016159326219743385, 0.9111656443450759, 0.03452219692399723, 0.3989826596224639, 0.06887650633551873, 0.12310946569848126, 0.4090473983971117, 0.9839935672760848, 0.00692953216391609, 0.00692953216391609, 0.00692953216391609, 0.009278814930636065, 0.009278814930636065, 0.9680896910963628, 0.014433712114322768, 0.008810496503603238, 0.007048397202882591, 0.9673925160956355, 0.017620993007206476, 0.9715825473753094, 0.01704530784868964, 0.00956633477552592, 0.01913266955105184, 0.9661998123281179, 0.00956633477552592, 0.020620911063803538, 0.9691828199987662, 0.9786351251110059, 0.016822633755972413, 0.9757127578464, 0.010948580715297331, 0.00729905381019822, 0.00729905381019822, 0.9744236836614624, 0.011494436373145275, 0.011494436373145275, 0.011494436373145275, 0.9655326553442032, 0.041330202190459624, 0.8885993470948819, 0.027553468126973082, 0.041330202190459624, 0.6549617546160375, 0.07915252441237249, 0.18645085484822818, 0.07943296707675351, 0.02958309983665573, 0.9009398586617882, 0.03496184526150223, 0.03496184526150223, 0.012096558567668773, 0.012096558567668773, 0.006048279283834387, 0.9677246854135019, 0.020464182325804423, 0.006821394108601474, 0.006821394108601474, 0.9686379634214093, 0.07202420377474462, 0.02123790624127085, 0.8628130257323253, 0.04395323204715185, 0.7760178204129912, 0.056110238182568, 0.10854507771718448, 0.05932780170482315, 0.058462851967574225, 0.020253202288766783, 0.8704701066172034, 0.050737403671859055, 0.24263150520807975, 0.07836545509826177, 0.6413995997181133, 0.03759079658153348, 0.7361723387677227, 0.04640652068465793, 0.11149602972277606, 0.10593447004539293, 0.009851187229410157, 0.009851187229410157, 0.019702374458820313, 0.9654163484821954, 0.9816639377193483, 0.00908948090480878, 0.00908948090480878, 0.6634655787199493, 0.05702674668074812, 0.17915393718341474, 0.10035024560824428, 0.973864046068961, 0.015458159461412081, 0.9472694075601744, 0.018216719376157202, 0.026023884823081714, 0.007807165446924514, 0.07109432445936142, 0.825948769454346, 0.052972241754034005, 0.04948722584916335, 0.023381117297321345, 0.014613198310825842, 0.95570316952801, 0.005845279324330336, 0.05659654463409515, 0.023485640970610913, 0.8982295144989386, 0.021560588432036246, 0.9693136127635655, 0.036875699549189817, 0.9587681882789352, 0.036875699549189817, 0.06504232146955738, 0.8316125387893407, 0.04878174110216803, 0.05435679722813009, 0.9859553824560128, 0.0074977595624031385, 0.0037488797812015692, 0.0037488797812015692, 0.8121420178711845, 0.0391062658266968, 0.0861183389070069, 0.06265457941098883, 0.6996367378002957, 0.042605266653976945, 0.1904870629666022, 0.06727305151039586, 0.9662436106186354, 0.0059097468539366085, 0.01477436713484152, 0.011819493707873217, 0.5941594206566929, 0.07111937315197701, 0.2020118984421624, 0.13270546243253434, 0.8030263199557431, 0.037362591491161896, 0.09832065349141161, 0.061292485991717105, 0.010371978082450323, 0.933478027420529, 0.04148791232980129, 0.010371978082450323, 0.02566252682840394, 0.9751760194793497, 0.03595769008643502, 0.9034369634216799, 0.026968267564826266, 0.03595769008643502, 0.5948636577586267, 0.0590643032967933, 0.19755457273196997, 0.14852036425630408, 0.07614065388351464, 0.8207161008075684, 0.055302159136447475, 0.04728735346449857, 0.023687039328092067, 0.9474815731236826, 0.023687039328092067, 0.023687039328092067, 0.009114422568732081, 0.009114422568732081, 0.9752432148543326, 0.009114422568732081, 0.0071395754500620575, 0.0053546815875465436, 0.9781218366585019, 0.010709363175093087], \"Term\": [\"abagailabagail\", \"account_dashboard_profile_saved\", \"account_dashboard_profile_saved\", \"account_dashboard_profile_saved\", \"account_dashboard_profile_saved\", \"accuweather_radar_wsi_radar\", \"accuweather_radar_wsi_radar\", \"accuweather_radar_wsi_radar\", \"accuweather_radar_wsi_radar\", \"add_commentyou_may_also\", \"add_commentyou_may_also\", \"add_commentyou_may_also\", \"add_commentyou_may_also\", \"additional_share\", \"additional_share\", \"additional_share\", \"additional_share\", \"adfox_method_createadaptive\", \"adfox_method_createadaptive\", \"adfox_method_createadaptive\", \"adfox_method_createadaptive\", \"adfox_ownerid\", \"adfox_ownerid\", \"adfox_ownerid\", \"adfox_ownerid\", \"admin_l\", \"admin_l\", \"admin_l\", \"admin_l\", \"admit\", \"admit\", \"admit\", \"admit\", \"affairs_frontier\", \"affairs_frontier\", \"aforementioned_exchange\", \"aforementioned_exchange\", \"aforementioned_exchange\", \"aforementioned_exchange\", \"african_supply_chain\", \"african_supply_chain\", \"african_supply_chain\", \"ai\", \"ai\", \"ai\", \"ai\", \"ai_baby_crye\", \"ai_baby_crye\", \"ai_baby_crye\", \"ai_baby_crye\", \"ai_sequencer\", \"ai_sequencer\", \"ai_sequencer\", \"ai_sequencer\", \"aizon\", \"aizon\", \"aizon\", \"aizon\", \"also\", \"also\", \"also\", \"also\", \"analysis\", \"analysis\", \"analysis\", \"analysis\", \"animate_slide\", \"animate_slide\", \"animate_slide\", \"animate_slide\", \"app_sign_inchange\", \"app_sign_inchange\", \"app_sign_inchange\", \"app_sign_inchange\", \"application\", \"application\", \"application\", \"application\", \"approximately_worth\", \"approximately_worth\", \"approximately_worth\", \"approximately_worth\", \"argue\", \"argue\", \"argue\", \"argue\", \"artificial_intelligence_robotics_etf\", \"artificial_intelligence_robotics_etf\", \"artificial_intelligence_robotics_etf\", \"artificial_intelligence_robotics_etf\", \"artist\", \"artist\", \"artist\", \"artist\", \"ask\", \"ask\", \"ask\", \"ask\", \"assembly_calculus\", \"assembly_calculus\", \"assembly_calculus\", \"average_data_scientist\", \"average_data_scientist\", \"average_data_scientist\", \"average_data_scientist\", \"average_full\", \"average_full\", \"average_full\", \"aviation_market\", \"aviation_market\", \"aviation_market\", \"aviation_market\", \"avnet_empower\", \"avnet_empower\", \"avnet_empower\", \"ban\", \"ban\", \"ban\", \"ban\", \"banner_template\", \"bard_avenue\", \"bard_avenue\", \"base\", \"base\", \"base\", \"base\", \"batter_breading_machine\", \"batter_breading_machine\", \"batter_breading_machine\", \"batter_breading_machine\", \"beneath_amedeo\", \"berks_traffic_corridor_u\", \"berks_traffic_corridor_u\", \"berks_traffic_corridor_u\", \"berks_traffic_corridor_u\", \"bratko_author\", \"brokersmutual_fund\", \"brokersmutual_fund\", \"brokersmutual_fund\", \"brokersmutual_fund\", \"btc_xrp\", \"btc_xrp\", \"btc_xrp\", \"btc_xrp\", \"business\", \"business\", \"business\", \"business\", \"buy_alternative\", \"buy_alternative\", \"buy_alternative\", \"buy_alternative\", \"buy_back_digi_communication\", \"buy_back_digi_communication\", \"buy_back_digi_communication\", \"buy_back_digi_communication\", \"cae_revenue\", \"cae_revenue\", \"cae_revenue\", \"cae_revenue\", \"cagr\", \"cagr\", \"cagr\", \"cagr\", \"calibration_software_market\", \"calibration_software_market\", \"calibration_software_market\", \"calibration_software_market\", \"call\", \"call\", \"call\", \"call\", \"carstory\", \"centercomments_community\", \"centercomments_community\", \"centercomments_community\", \"centercomments_community\", \"ceo_token\", \"ceo_token\", \"chatgpt\", \"chatgpt\", \"chatgpt\", \"chatgpt\", \"chatgpt_prompt\", \"chatgpt_prompt\", \"chatgpt_prompt\", \"chatgpt_prompt\", \"cheat\", \"cheat\", \"cheat\", \"cheat\", \"child\", \"child\", \"child\", \"child\", \"chongqing_jinghong_blonder_tongue\", \"chongqing_jinghong_blonder_tongue\", \"chongqing_jinghong_blonder_tongue\", \"chongqing_jinghong_blonder_tongue\", \"circulating_supply\", \"circulating_supply\", \"circulating_supply\", \"circulating_supply\", \"cision_communication_cloud\", \"cision_communication_cloud\", \"cision_communication_cloud\", \"cision_communication_cloud\", \"cisos_disagree\", \"cloud_cision\", \"cloud_cision\", \"cloud_cision\", \"cloud_cision\", \"cloudquant\", \"cloudquant\", \"cloudquant\", \"cna_live_podcasts_radio\", \"cna_live_podcasts_radio\", \"cna_live_podcasts_radio\", \"cna_live_podcasts_radio\", \"cnapp_ening_bre\", \"co_workers_use\", \"co_workers_use\", \"co_workers_use\", \"co_workers_use\", \"coal_region_southeastern_pa\", \"coal_region_southeastern_pa\", \"coal_region_southeastern_pa\", \"coal_region_southeastern_pa\", \"columbus_teen\", \"columbus_teen\", \"come\", \"come\", \"come\", \"come\", \"communications_report\", \"communications_report\", \"communications_report\", \"communications_report\", \"company\", \"company\", \"company\", \"company\", \"company_aitx\", \"company_aitx\", \"company_aitx\", \"competitors_urine_meter\", \"comptop_stockspenny\", \"comptop_stockspenny\", \"comptop_stockspenny\", \"comptop_stockspenny\", \"content_ishidden_false_count_like\", \"content_ishidden_false_count_like\", \"content_ishidden_false_count_like\", \"content_ishidden_false_count_like\", \"cool_media\", \"cool_media\", \"cool_media\", \"cool_media\", \"count_dislikes_null_gtm_comment\", \"count_dislikes_null_gtm_comment\", \"count_dislikes_null_gtm_comment\", \"count_dislikes_null_gtm_comment\", \"create\", \"create\", \"create\", \"create\", \"createadaptive_adfox\", \"createadaptive_adfox\", \"createadaptive_adfox\", \"createadaptive_adfox\", \"crowdsourcing_software\", \"crowdsourcing_software\", \"crowdsourcing_software\", \"crowdsourcing_software\", \"customer\", \"customer\", \"customer\", \"customer\", \"cyber_data_science\", \"cyber_data_science\", \"cyber_data_science\", \"cyber_data_science\", \"data_science_platform\", \"data_science_platform\", \"data_science_platform\", \"data_science_platform\", \"datum\", \"datum\", \"datum\", \"datum\", \"daughter\", \"daughter\", \"daughter\", \"daughter\", \"deals_dollar\", \"deals_dollar\", \"deals_dollar\", \"deals_dollar\", \"decentralized_machine_learne\", \"decentralized_machine_learne\", \"decentralized_machine_learne\", \"decentralized_machine_learne\", \"defunding_misinformation\", \"defunding_misinformation\", \"defunding_misinformation\", \"defunding_misinformation\", \"depth_study_total\", \"depth_study_total\", \"depth_study_total\", \"depth_study_total\", \"development\", \"development\", \"development\", \"development\", \"devices_sales_revenue\", \"devices_sales_revenue\", \"devices_sales_revenue\", \"diabetes_foot\", \"diabetes_foot\", \"diabetes_foot\", \"diabetes_foot\", \"digi_communication\", \"digi_communication\", \"digi_communication\", \"digi_communication\", \"digi_communications_report\", \"digi_communications_report\", \"digi_communications_report\", \"digi_communications_report\", \"digi_symbol\", \"digi_symbol\", \"digi_symbol\", \"digi_symbol\", \"disabilities_religion\", \"disabilities_religion\", \"disabilities_religion\", \"disabilities_religion\", \"display_none_page_id\", \"display_none_page_id\", \"display_none_page_id\", \"display_none_page_id\", \"dollar\", \"dollar\", \"dollar\", \"dollar\", \"dot_trade\", \"dot_trade\", \"dot_trade\", \"dot_trade\", \"download_multimedia\", \"download_multimedia\", \"download_multimedia\", \"download_multimedia\", \"drapeau\", \"dress\", \"dress\", \"dress\", \"dress\", \"driverless_test\", \"driverless_test\", \"driverless_test\", \"drone_supervision\", \"drw_securitie\", \"drw_securitie\", \"drw_securitie\", \"earnings_came\", \"earnings_came\", \"earnings_came\", \"ed_ee_url_http\", \"ed_ee_url_http\", \"ed_ee_url_http\", \"ed_ee_url_http\", \"eid_robotic\", \"eid_robotic\", \"eid_robotic\", \"email_alerts_mobile\", \"email_alerts_mobile\", \"email_alerts_mobile\", \"email_alerts_mobile\", \"employment\", \"employment\", \"employment\", \"employment\", \"endorse\", \"endorse\", \"endorse\", \"endorse\", \"enteral_feeding_bags_market\", \"enteral_feeding_bags_market\", \"enteral_feeding_bags_market\", \"enteral_feeding_bags_market\", \"even\", \"even\", \"even\", \"even\", \"events_partnerships_branded_content\", \"events_partnerships_branded_content\", \"events_partnerships_branded_content\", \"events_partnerships_branded_content\", \"ewg_elevate_inc\", \"ewg_elevate_inc\", \"ewg_elevate_inc\", \"ewg_elevate_inc\", \"excel_outlook\", \"excel_outlook\", \"excel_outlook\", \"excel_outlook\", \"exchanges_liste\", \"exchanges_liste\", \"exchanges_liste\", \"exchanges_liste\", \"expect\", \"expect\", \"expect\", \"expect\", \"experience\", \"experience\", \"experience\", \"experience\", \"experiences_obsessions_people_remarkable\", \"experiences_obsessions_people_remarkable\", \"experiences_obsessions_people_remarkable\", \"experiences_obsessions_people_remarkable\", \"expert_contact\", \"expert_contact\", \"expert_contact\", \"expert_contact\", \"face_analyzer\", \"face_analyzer\", \"face_analyzer\", \"face_analyzer\", \"facebook_twitter_whatsapp_sm\", \"facebook_twitter_whatsapp_sm\", \"facebook_twitter_whatsapp_sm\", \"facebook_twitter_whatsapp_sm\", \"fashion_retail_market\", \"fashion_retail_market\", \"fashion_retail_market\", \"fashion_retail_market\", \"fcc_public_inspection_file\", \"fcc_public_inspection_file\", \"fcc_public_inspection_file\", \"fcc_public_inspection_file\", \"features_native_resolution\", \"features_native_resolution\", \"features_native_resolution\", \"features_native_resolution\", \"feb_feb_feb_feb\", \"feb_feb_feb_feb\", \"feb_feb_feb_feb\", \"feb_feb_feb_feb\", \"find\", \"find\", \"find\", \"find\", \"fintech_wale\", \"fintech_wale\", \"fintech_wale\", \"fintech_wale\", \"fm_molek_fm_opinion\", \"fm_molek_fm_opinion\", \"focus_browse\", \"focus_browse\", \"focus_browse\", \"focus_browse\", \"food_product_recalls_restaurant\", \"food_product_recalls_restaurant\", \"food_product_recalls_restaurant\", \"food_product_recalls_restaurant\", \"forecast\", \"forecast\", \"forecast\", \"forecast\", \"forecast_period\", \"forecast_period\", \"forecast_period\", \"forecast_period\", \"franklin_international_low_volatility\", \"franklin_international_low_volatility\", \"franklin_international_low_volatility\", \"freddy_award\", \"freddy_award\", \"freddy_award\", \"freddy_award\", \"game\", \"game\", \"game\", \"game\", \"gaming_hotel\", \"gaming_hotel\", \"gaming_hotel\", \"gaming_hotel\", \"get\", \"get\", \"get\", \"get\", \"global\", \"global\", \"global\", \"global\", \"global_artificial_intelligence\", \"global_artificial_intelligence\", \"global_artificial_intelligence\", \"global_artificial_intelligence\", \"global_artificial_intelligence_software\", \"global_artificial_intelligence_software\", \"global_artificial_intelligence_software\", \"global_artificial_intelligence_software\", \"global_machine_learne\", \"global_machine_learne\", \"global_machine_learne\", \"global_machine_learne\", \"global_postpartum_hemorrhage_pph\", \"global_postpartum_hemorrhage_pph\", \"global_postpartum_hemorrhage_pph\", \"global_postpartum_hemorrhage_pph\", \"global_urine_meter\", \"global_urine_meter\", \"global_urine_meter\", \"globe_telecom_inc\", \"globe_telecom_inc\", \"gny_io\", \"gny_io\", \"gny_io\", \"gny_io\", \"go\", \"go\", \"go\", \"go\", \"grade_crosse\", \"grade_crosse\", \"group\", \"group\", \"group\", \"group\", \"group_inc_station_gray\", \"group_inc_station_gray\", \"group_inc_station_gray\", \"group_inc_station_gray\", \"growth\", \"growth\", \"growth\", \"growth\", \"growth_analysis\", \"growth_analysis\", \"growth_analysis\", \"growth_analysis\", \"growth_etf\", \"growth_etf\", \"growth_etf\", \"growth_factor\", \"growth_factor\", \"growth_factor\", \"growth_factor\", \"growth_rate\", \"growth_rate\", \"growth_rate\", \"growth_rate\", \"hanshow\", \"hardware_computer_software\", \"hardware_computer_software\", \"hardware_computer_software\", \"hardware_computer_software\", \"help\", \"help\", \"help\", \"help\", \"high_dividend_index_etf\", \"high_dividend_index_etf\", \"high_power_rf\", \"high_power_rf\", \"high_power_rf\", \"high_power_rf\", \"hip_ray\", \"hip_ray\", \"hip_ray\", \"hip_ray\", \"hour_local_radar_radar\", \"hour_local_radar_radar\", \"hour_local_radar_radar\", \"hour_local_radar_radar\", \"https_vc_ru_service\", \"https_vc_ru_service\", \"https_vc_ru_service\", \"https_vc_ru_service\", \"icon\", \"icon\", \"icon\", \"icon\", \"image\", \"image\", \"image\", \"image\", \"imerit_self_serve_api\", \"imerit_self_serve_api\", \"imerit_self_serve_api\", \"impact\", \"impact\", \"impact\", \"impact\", \"imperial_claims_service\", \"imperial_claims_service\", \"include\", \"include\", \"include\", \"include\", \"increasingly_innovate\", \"increasingly_innovate\", \"increasingly_innovate\", \"industry\", \"industry\", \"industry\", \"industry\", \"industry_analysis\", \"industry_analysis\", \"industry_analysis\", \"industry_analysis\", \"info_help\", \"info_help\", \"info_help\", \"info_help\", \"information\", \"information\", \"information\", \"information\", \"integrating_generative_ai_tool\", \"integrating_generative_ai_tool\", \"integrating_generative_ai_tool\", \"integrating_generative_ai_tool\", \"international_affairs_homeland_security\", \"international_affairs_homeland_security\", \"international_affairs_homeland_security\", \"international_affairs_homeland_security\", \"internet_driver\", \"internet_driver\", \"internet_driver\", \"internet_driver\", \"internet_protocol_wireless_communication\", \"internet_protocol_wireless_communication\", \"internet_protocol_wireless_communication\", \"internet_protocol_wireless_communication\", \"intravenous_access_device\", \"intravenous_access_device\", \"intravenous_access_device\", \"intravenous_access_device\", \"iqui\", \"iqui\", \"iqui\", \"iqui\", \"iu_nsk_iu_nsk\", \"key_applications\", \"key_player\", \"key_player\", \"key_player\", \"key_player\", \"know\", \"know\", \"know\", \"know\", \"labor_union_legal_issue\", \"labor_union_legal_issue\", \"labor_union_legal_issue\", \"labor_union_legal_issue\", \"laboratories_us_sumavision\", \"laboratories_us_sumavision\", \"laboratories_us_sumavision\", \"laboratories_us_sumavision\", \"laboratory_equipment_service\", \"laboratory_equipment_service\", \"laboratory_equipment_service\", \"laboratory_equipment_service\", \"launch_kempner_institute\", \"launch_kempner_institute\", \"launch_kempner_institute\", \"launch_kempner_institute\", \"law_fsa_regulation\", \"law_fsa_regulation\", \"law_fsa_regulation\", \"law_fsa_regulation\", \"law_public\", \"law_public\", \"law_public\", \"law_public\", \"learn\", \"learn\", \"learn\", \"learn\", \"leave\", \"leave\", \"leave\", \"leave\", \"liketerm\", \"liketerm\", \"liketerm\", \"liketerm\", \"link_machine_learne\", \"link_machine_learne\", \"link_machine_learne\", \"link_machine_learne\", \"link_read\", \"link_read\", \"link_read\", \"link_read\", \"lisk_machine_learne\", \"lisk_machine_learne\", \"lisk_machine_learne\", \"lisk_machine_learne\", \"lisk_machine_learning_directly\", \"lisk_machine_learning_directly\", \"lisk_machine_learning_directly\", \"lisk_machine_learning_directly\", \"live_fast_motorsport\", \"live_fast_motorsport\", \"live_fast_motorsport\", \"live_fast_motorsport\", \"living_cna_eyewitness_send\", \"living_cna_eyewitness_send\", \"living_cna_eyewitness_send\", \"living_cna_eyewitness_send\", \"log\", \"log\", \"log\", \"log\", \"lot\", \"lot\", \"lot\", \"lot\", \"luke_dormehl\", \"luke_dormehl\", \"luke_dormehl\", \"luke_dormehl\", \"main_benefit\", \"main_benefit\", \"main_benefit\", \"main_benefit\", \"major_player\", \"major_player\", \"major_player\", \"major_player\", \"major_power\", \"major_power\", \"major_power\", \"major_power\", \"make\", \"make\", \"make\", \"make\", \"manufacturing_market\", \"manufacturing_market\", \"manufacturing_market\", \"manufacturing_market\", \"market\", \"market\", \"market\", \"market\", \"market_citic_dicastal\", \"market_citic_dicastal\", \"market_citic_dicastal\", \"market_citic_dicastal\", \"market_forecast\", \"market_forecast\", \"market_forecast\", \"market_forecast\", \"market_global\", \"market_global\", \"market_global\", \"market_global\", \"market_growth\", \"market_growth\", \"market_growth\", \"market_growth\", \"market_overview\", \"market_overview\", \"market_overview\", \"market_overview\", \"market_player\", \"market_player\", \"market_player\", \"market_player\", \"market_report\", \"market_report\", \"market_report\", \"market_report\", \"market_research\", \"market_research\", \"market_research\", \"market_research\", \"market_segment\", \"market_segment\", \"market_segment\", \"market_segment\", \"market_segmentation\", \"market_segmentation\", \"market_segmentation\", \"market_segmentation\", \"market_share\", \"market_share\", \"market_share\", \"market_share\", \"market_trend\", \"market_trend\", \"market_trend\", \"market_trend\", \"mathematics_literacy\", \"mathematics_literacy\", \"matrix_ai_network\", \"matrix_ai_network\", \"matrix_ai_network\", \"matrix_ai_network\", \"media_inquiries_worldwide_office\", \"media_inquiries_worldwide_office\", \"media_inquiries_worldwide_office\", \"media_inquiries_worldwide_office\", \"media_stem_science_tech\", \"media_stem_science_tech\", \"media_stem_science_tech\", \"media_stem_science_tech\", \"metagamz\", \"metagamz\", \"metagamz\", \"mickoski\", \"microsoft_adds_ai_tool\", \"microsoft_adds_ai_tool\", \"microsoft_adds_ai_tool\", \"microsoft_adds_ai_tool\", \"mobile_artificial_intelligence\", \"mobile_artificial_intelligence\", \"mobile_artificial_intelligence\", \"mobile_artificial_intelligence\", \"modigliani_portrait\", \"movie\", \"movie\", \"movie\", \"movie\", \"multimedia_internet_peripherals_social\", \"multimedia_internet_peripherals_social\", \"multimedia_internet_peripherals_social\", \"multimedia_internet_peripherals_social\", \"multimedia_photos\", \"multimedia_photos\", \"multimedia_photos\", \"multimedia_photos\", \"music_monday_program_schedule\", \"music_monday_program_schedule\", \"music_monday_program_schedule\", \"music_monday_program_schedule\", \"necessarily_state\", \"necessarily_state\", \"necessarily_state\", \"necessarily_state\", \"need\", \"need\", \"need\", \"need\", \"neuroscience_software\", \"neuroscience_software\", \"new\", \"new\", \"new\", \"new\", \"news\", \"news\", \"news\", \"news\", \"news_interview\", \"news_interview\", \"news_interview\", \"news_interview\", \"news_release\", \"news_release\", \"news_release\", \"news_release\", \"non_uv_dicing_tape\", \"non_uv_dicing_tape\", \"non_uv_dicing_tape\", \"non_uv_dicing_tape\", \"notification_shares_buy_back\", \"notification_shares_buy_back\", \"notification_shares_buy_back\", \"notification_shares_buy_back\", \"nsac_nsac\", \"nsac_nsac\", \"old_bailey\", \"old_bailey\", \"old_bailey\", \"old_bailey\", \"organization\", \"organization\", \"organization\", \"organization\", \"osnova_io\", \"osnova_io\", \"osnova_io\", \"osnova_io\", \"outlook_word\", \"outlook_word\", \"outlook_word\", \"outlook_word\", \"outmy_accountsign\", \"outmy_accountsign\", \"outmy_accountsign\", \"outmy_accountsign\", \"outsmart_hot_flashes\", \"outsmart_hot_flashes\", \"outsmart_hot_flashes\", \"outsmart_hot_flashes\", \"overview_automotive_artificial\", \"overview_automotive_artificial\", \"overview_automotive_artificial\", \"overview_automotive_artificial\", \"overviewview\", \"overviewview\", \"overviewview\", \"overviewview\", \"ownerid_param\", \"ownerid_param\", \"ownerid_param\", \"ownerid_param\", \"owns_share\", \"owns_share\", \"owns_share\", \"owns_share\", \"papadimitriou_said\", \"papadimitriou_said\", \"paper_tape\", \"paper_tape\", \"paper_tape\", \"paper_tape\", \"parkinson_progression_markers_initiative\", \"parkinson_progression_markers_initiative\", \"parkinson_progression_markers_initiative\", \"parkinson_progression_markers_initiative\", \"parliament_mental_health_interactive\", \"parliament_mental_health_interactive\", \"parliament_mental_health_interactive\", \"parliament_mental_health_interactive\", \"partner\", \"partner\", \"partner\", \"partner\", \"partner_perspectives_microsofttech_library\", \"pellet_mill\", \"pellet_mill\", \"people\", \"people\", \"people\", \"people\", \"platform\", \"platform\", \"platform\", \"platform\", \"please_note\", \"please_note\", \"please_note\", \"please_note\", \"plnar\", \"plnar\", \"plnar\", \"poconos\", \"poconos\", \"poconos\", \"poconos\", \"polite_inappropriate\", \"polite_inappropriate\", \"polite_inappropriate\", \"polite_inappropriate\", \"pose\", \"pose\", \"pose\", \"pose\", \"post\", \"post\", \"post\", \"post\", \"postpartum_hemorrhage_pph_treatment\", \"postpartum_hemorrhage_pph_treatment\", \"postpartum_hemorrhage_pph_treatment\", \"postpartum_hemorrhage_pph_treatment\", \"posts_containing_offsite_link\", \"posts_containing_offsite_link\", \"posts_containing_offsite_link\", \"posts_containing_offsite_link\", \"pr_newswire_cision_communication\", \"pr_newswire_cision_communication\", \"pr_newswire_cision_communication\", \"pr_newswire_cision_communication\", \"presently_possible\", \"presently_possible\", \"presently_possible\", \"presently_possible\", \"pricing_tool\", \"pricing_tool\", \"pricing_tool\", \"pricing_tool\", \"prnewswire\", \"prnewswire\", \"prnewswire\", \"prnewswire\", \"product\", \"product\", \"product\", \"product\", \"productive_freee\", \"productive_freee\", \"productive_freee\", \"productive_freee\", \"products_containers_precious_metal\", \"products_containers_precious_metal\", \"products_containers_precious_metal\", \"products_containers_precious_metal\", \"project_linchpin\", \"project_linchpin\", \"project_linchpin\", \"project_medal\", \"prolog_programme\", \"prolog_programme\", \"prompt\", \"prompt\", \"prompt\", \"prompt\", \"provide\", \"provide\", \"provide\", \"provide\", \"publisher_websiteread\", \"publisher_websiteread\", \"publisher_websiteread\", \"publisher_websiteread\", \"publishing_information_services_radio\", \"publishing_information_services_radio\", \"publishing_information_services_radio\", \"publishing_information_services_radio\", \"purchase_alternative\", \"purchase_alternative\", \"purchase_alternative\", \"purchase_alternative\", \"question\", \"question\", \"question\", \"question\", \"reactev\", \"reactev\", \"read\", \"read\", \"read\", \"read\", \"reading_library_webinar\", \"ready_vision\", \"ready_vision\", \"ready_vision\", \"ready_vision\", \"real_info\", \"real_info\", \"real_info\", \"real_info\", \"recalls_missing_persons_weather\", \"recalls_missing_persons_weather\", \"recalls_missing_persons_weather\", \"recalls_missing_persons_weather\", \"recaptcha\", \"recaptcha\", \"recaptcha\", \"recaptcha\", \"receive_news_update\", \"receive_news_update\", \"receive_news_update\", \"receive_news_update\", \"recent_ruling\", \"recent_ruling\", \"recent_ruling\", \"recent_ruling\", \"recipe_box_delivery_service\", \"recipe_box_delivery_service\", \"recipe_box_delivery_service\", \"recipe_box_delivery_service\", \"recipes_mr_food_thing\", \"recipes_mr_food_thing\", \"recipes_mr_food_thing\", \"recipes_mr_food_thing\", \"reddit_community\", \"reddit_community\", \"reddit_community\", \"reddit_community\", \"reflect\", \"reflect\", \"reflect\", \"reflect\", \"region\", \"region\", \"region\", \"region\", \"regional_overview_feb_hitesh\", \"regional_overview_feb_hitesh\", \"regulated_market\", \"regulated_market\", \"regulated_market\", \"regulated_market\", \"report\", \"report\", \"report\", \"report\", \"report_cover\", \"report_cover\", \"report_cover\", \"report_cover\", \"report_provide\", \"report_provide\", \"report_provide\", \"report_provide\", \"reports_slideshows_white_paper\", \"republic\", \"republic\", \"republic\", \"republic\", \"republic_cement\", \"republic_cement\", \"republic_cement\", \"republic_cement\", \"research\", \"research\", \"research\", \"research\", \"resources_blog_journalists_rss\", \"resources_blog_journalists_rss\", \"resources_blog_journalists_rss\", \"resources_blog_journalists_rss\", \"results_found_please_change\", \"results_found_please_change\", \"results_found_please_change\", \"results_found_please_change\", \"retro_tv_order_copy\", \"retro_tv_order_copy\", \"retro_tv_order_copy\", \"retro_tv_order_copy\", \"reveal\", \"reveal\", \"reveal\", \"reveal\", \"revenue\", \"revenue\", \"revenue\", \"revenue\", \"river_levels_pocono_camera\", \"river_levels_pocono_camera\", \"river_levels_pocono_camera\", \"river_levels_pocono_camera\", \"robot_lily\", \"robot_lily\", \"robot_lily\", \"robot_lily\", \"round_bed\", \"round_bed\", \"round_bed\", \"rubikcloud\", \"say\", \"say\", \"say\", \"say\", \"schedule_wdpn_tv_schedule\", \"schedule_wdpn_tv_schedule\", \"schedule_wdpn_tv_schedule\", \"schedule_wdpn_tv_schedule\", \"schedule_wfmz_tv_metv\", \"schedule_wfmz_tv_metv\", \"schedule_wfmz_tv_metv\", \"schedule_wfmz_tv_metv\", \"schools_u\", \"schools_u\", \"schools_u\", \"schools_u\", \"scribble_data\", \"scribble_data\", \"scribble_data\", \"search_recent_post\", \"search_recent_post\", \"search_recent_post\", \"search_recent_post\", \"security_policy_site_map\", \"security_policy_site_map\", \"security_policy_site_map\", \"security_policy_site_map\", \"see\", \"see\", \"see\", \"see\", \"segment\", \"segment\", \"segment\", \"segment\", \"self_injurious\", \"self_injurious\", \"send_release\", \"send_release\", \"send_release\", \"send_release\", \"service\", \"service\", \"service\", \"service\", \"service_apply\", \"service_apply\", \"service_apply\", \"service_apply\", \"share\", \"share\", \"share\", \"share\", \"share_growth\", \"share_growth\", \"share_growth\", \"share_growth\", \"shares_buy_back_digi\", \"shares_buy_back_digi\", \"shares_buy_back_digi\", \"shares_buy_back_digi\", \"shortage_automotive_artificial\", \"shortage_automotive_artificial\", \"show\", \"show\", \"show\", \"show\", \"show_nominee\", \"show_nominee\", \"show_nominee\", \"shows_tv_schedule_listen\", \"shows_tv_schedule_listen\", \"shows_tv_schedule_listen\", \"shows_tv_schedule_listen\", \"sign\", \"sign\", \"sign\", \"sign\", \"similar_post\", \"similar_post\", \"similar_post\", \"similar_post\", \"skip\", \"skip\", \"skip\", \"skip\", \"slab_grade\", \"slab_grade\", \"slab_grade\", \"software_market\", \"software_market\", \"software_market\", \"software_market\", \"solution\", \"solution\", \"solution\", \"solution\", \"spinal_devices_market\", \"spinal_devices_market\", \"spinal_devices_market\", \"spinal_devices_market\", \"srmh\", \"start_wave\", \"start_wave\", \"start_wave\", \"start_wave\", \"state_withuser\", \"state_withuser\", \"state_withuser\", \"state_withuser\", \"statement\", \"statement\", \"statement\", \"statement\", \"stocks_stock\", \"stocks_stock\", \"stocks_stock\", \"stocks_stock\", \"stormcenter_school_business\", \"stormcenter_school_business\", \"stormcenter_school_business\", \"stormcenter_school_business\", \"story\", \"story\", \"story\", \"story\", \"straits_time\", \"straits_time\", \"straits_time\", \"straits_time\", \"strikevision\", \"strikevision\", \"study\", \"study\", \"study\", \"study\", \"study_natural\", \"study_natural\", \"study_natural\", \"study_natural\", \"style\", \"style\", \"style\", \"style\", \"suitestensa_pac\", \"suitestensa_pac\", \"suitestensa_pac\", \"suitestensa_pac\", \"supervised_visit\", \"supervised_visit\", \"supervised_visit\", \"supervised_visit\", \"support\", \"support\", \"support\", \"support\", \"swot_analysis\", \"swot_analysis\", \"swot_analysis\", \"swot_analysis\", \"system\", \"system\", \"system\", \"system\", \"tab_open\", \"tab_open\", \"tab_open\", \"tab_open\", \"take\", \"take\", \"take\", \"take\", \"tank_trip_signature_dish\", \"tank_trip_signature_dish\", \"tank_trip_signature_dish\", \"tank_trip_signature_dish\", \"team\", \"team\", \"team\", \"team\", \"tech_history_headlines_one\", \"tech_history_headlines_one\", \"tech_history_headlines_one\", \"tech_history_headlines_one\", \"technologies_co_versa\", \"technologies_co_versa\", \"technologies_co_versa\", \"technologies_co_versa\", \"technology\", \"technology\", \"technology\", \"technology\", \"tell\", \"tell\", \"tell\", \"tell\", \"tells_govt_department\", \"tells_govt_department\", \"tells_govt_department\", \"term\", \"term\", \"term\", \"term\", \"text\", \"text\", \"text\", \"text\", \"text_isparagraph\", \"text_isparagraph\", \"text_isparagraph\", \"text_isparagraph\", \"th_anniversary\", \"th_anniversary\", \"th_anniversary\", \"th_anniversary\", \"think\", \"think\", \"think\", \"think\", \"time\", \"time\", \"time\", \"time\", \"top_companie\", \"top_companie\", \"top_companie\", \"top_companie\", \"top_key_player\", \"top_key_player\", \"top_key_player\", \"top_key_player\", \"top_manufacturer\", \"top_manufacturer\", \"top_manufacturer\", \"top_manufacturer\", \"top_player\", \"top_player\", \"top_player\", \"top_player\", \"trade\", \"trade\", \"trade\", \"trade\", \"trade_surveillance_system\", \"trade_surveillance_system\", \"trade_surveillance_system\", \"trade_surveillance_system\", \"traded_lower\", \"traded_lower\", \"traded_lower\", \"traded_lower\", \"trailer_camper\", \"trailer_camper\", \"trailer_camper\", \"trailer_camper\", \"transactions_occurre\", \"transactions_occurre\", \"transactions_occurre\", \"transactions_occurre\", \"transactions_occurred\", \"transactions_occurred\", \"transactions_occurred\", \"transactions_occurred\", \"trend\", \"trend\", \"trend\", \"trend\", \"true_isheading_false\", \"true_isheading_false\", \"true_isheading_false\", \"true_isheading_false\", \"type_place\", \"type_place\", \"type_place\", \"type_place\", \"typestr_comment\", \"typestr_comment\", \"typestr_comment\", \"typestr_comment\", \"uncovering_striking\", \"uncovering_striking\", \"united_image\", \"united_image\", \"united_image\", \"united_image\", \"united_states_protecte\", \"united_states_protecte\", \"unlock_saving\", \"urban_scene\", \"urban_scene\", \"urine_meter\", \"urine_meter\", \"urine_meter\", \"urine_meter\", \"usa_outdoor_payment_terminal\", \"usa_outdoor_payment_terminal\", \"usa_outdoor_payment_terminal\", \"usa_outdoor_payment_terminal\", \"usdt_traded\", \"usdt_traded\", \"usdt_traded\", \"usdt_traded\", \"use\", \"use\", \"use\", \"use\", \"using_dollars_investors_seeke\", \"using_dollars_investors_seeke\", \"using_dollars_investors_seeke\", \"using_dollars_investors_seeke\", \"vascular_access_device_market\", \"vascular_access_device_market\", \"vascular_access_device_market\", \"vascular_access_device_market\", \"venture_visionary_partners_llc\", \"venture_visionary_partners_llc\", \"venture_visionary_partners_llc\", \"venture_visionary_partners_llc\", \"veterans_woman\", \"veterans_woman\", \"veterans_woman\", \"veterans_woman\", \"video\", \"video\", \"video\", \"video\", \"videos_multimedia_gallery_overview\", \"videos_multimedia_gallery_overview\", \"videos_multimedia_gallery_overview\", \"videos_multimedia_gallery_overview\", \"views_opinion\", \"views_opinion\", \"views_opinion\", \"views_opinion\", \"want\", \"want\", \"want\", \"want\", \"watch_hal_st_paddy\", \"watch_hal_st_paddy\", \"watch_hal_st_paddy\", \"watch_hal_st_paddy\", \"watch_neuralink_brain_implant\", \"watch_neuralink_brain_implant\", \"watch_neuralink_brain_implant\", \"way\", \"way\", \"way\", \"way\", \"weapon_detection_projects_profitability\", \"weapon_detection_projects_profitability\", \"welcome_backedit_account_sign\", \"welcome_backedit_account_sign\", \"welcome_backedit_account_sign\", \"welcome_backedit_account_sign\", \"western_nj_including_allentown\", \"western_nj_including_allentown\", \"western_nj_including_allentown\", \"western_nj_including_allentown\", \"wimbledon_app\", \"wimbledon_app\", \"wimbledon_app\", \"wimbledon_app\", \"wines_spirits_beverages_bridal\", \"wines_spirits_beverages_bridal\", \"wines_spirits_beverages_bridal\", \"wines_spirits_beverages_bridal\", \"wins_keystone\", \"wireless_vigilent\", \"wireless_vigilent\", \"wireless_vigilent\", \"wisdom_coalition\", \"wisdom_coalition\", \"wisdom_coalition\", \"wisdom_coalition\", \"wise_agent\", \"wise_agent\", \"wise_agent\", \"wise_agent\", \"word\", \"word\", \"word\", \"word\", \"work\", \"work\", \"work\", \"work\", \"workspace_application\", \"workspace_application\", \"workspace_application\", \"workspace_application\", \"world\", \"world\", \"world\", \"world\", \"write\", \"write\", \"write\", \"write\", \"writerssubmit_story\", \"writerssubmit_story\", \"writerssubmit_story\", \"writerssubmit_story\", \"wskg_public\", \"wskg_public\", \"xrp_trade\", \"xrp_trade\", \"xrp_trade\", \"xrp_trade\", \"year\", \"year\", \"year\", \"year\", \"youtube_instagram_email_io\", \"youtube_instagram_email_io\", \"youtube_instagram_email_io\", \"youtube_instagram_email_io\", \"zeigler\", \"zeigler\", \"zeigler\", \"zeigler\", \"zenonco_io\", \"zenonco_io\", \"zenonco_io\", \"zenonco_io\", \"\\u043e\\u0442\\u0432\\u0435\\u0442\\u0438\\u0442\\u044c_likedata_id_type\", \"\\u043e\\u0442\\u0432\\u0435\\u0442\\u0438\\u0442\\u044c_likedata_id_type\", \"\\u043e\\u0442\\u0432\\u0435\\u0442\\u0438\\u0442\\u044c_likedata_id_type\", \"\\u043e\\u0442\\u0432\\u0435\\u0442\\u0438\\u0442\\u044c_likedata_id_type\"]}, \"R\": 30, \"lambda.step\": 0.01, \"plot.opts\": {\"xlab\": \"PC1\", \"ylab\": \"PC2\"}, \"topic.order\": [1, 2, 3, 4]};\n",
       "\n",
       "function LDAvis_load_lib(url, callback){\n",
       "  var s = document.createElement('script');\n",
       "  s.src = url;\n",
       "  s.async = true;\n",
       "  s.onreadystatechange = s.onload = callback;\n",
       "  s.onerror = function(){console.warn(\"failed to load library \" + url);};\n",
       "  document.getElementsByTagName(\"head\")[0].appendChild(s);\n",
       "}\n",
       "\n",
       "if(typeof(LDAvis) !== \"undefined\"){\n",
       "   // already loaded: just create the visualization\n",
       "   !function(LDAvis){\n",
       "       new LDAvis(\"#\" + \"ldavis_el521371402824307048809702117822\", ldavis_el521371402824307048809702117822_data);\n",
       "   }(LDAvis);\n",
       "}else if(typeof define === \"function\" && define.amd){\n",
       "   // require.js is available: use it to load d3/LDAvis\n",
       "   require.config({paths: {d3: \"https://d3js.org/d3.v5\"}});\n",
       "   require([\"d3\"], function(d3){\n",
       "      window.d3 = d3;\n",
       "      LDAvis_load_lib(\"https://cdn.jsdelivr.net/gh/bmabey/pyLDAvis@3.4.0/pyLDAvis/js/ldavis.v3.0.0.js\", function(){\n",
       "        new LDAvis(\"#\" + \"ldavis_el521371402824307048809702117822\", ldavis_el521371402824307048809702117822_data);\n",
       "      });\n",
       "    });\n",
       "}else{\n",
       "    // require.js not available: dynamically load d3 & LDAvis\n",
       "    LDAvis_load_lib(\"https://d3js.org/d3.v5.js\", function(){\n",
       "         LDAvis_load_lib(\"https://cdn.jsdelivr.net/gh/bmabey/pyLDAvis@3.4.0/pyLDAvis/js/ldavis.v3.0.0.js\", function(){\n",
       "                 new LDAvis(\"#\" + \"ldavis_el521371402824307048809702117822\", ldavis_el521371402824307048809702117822_data);\n",
       "            })\n",
       "         });\n",
       "}\n",
       "</script>"
      ],
      "text/plain": [
       "<IPython.core.display.HTML object>"
      ]
     },
     "execution_count": 26,
     "metadata": {},
     "output_type": "execute_result"
    }
   ],
   "source": [
    "lda_display = gensimvis.prepare(best_lda, doc_term_matrix, dictionary, sort_topics=False, mds='mmds')\n",
    "pyLDAvis.display(lda_display)"
   ]
  },
  {
   "cell_type": "code",
   "execution_count": null,
   "id": "8aba8a54-1cc4-4921-a002-e3532256a762",
   "metadata": {},
   "outputs": [],
   "source": []
  }
 ],
 "metadata": {
  "environment": {
   "kernel": "python3",
   "name": "tf2-gpu.2-11.m108",
   "type": "gcloud",
   "uri": "gcr.io/deeplearning-platform-release/tf2-gpu.2-11:m108"
  },
  "kernelspec": {
   "display_name": "Python 3 (ipykernel)",
   "language": "python",
   "name": "python3"
  },
  "language_info": {
   "codemirror_mode": {
    "name": "ipython",
    "version": 3
   },
   "file_extension": ".py",
   "mimetype": "text/x-python",
   "name": "python",
   "nbconvert_exporter": "python",
   "pygments_lexer": "ipython3",
   "version": "3.10.10"
  }
 },
 "nbformat": 4,
 "nbformat_minor": 5
}
